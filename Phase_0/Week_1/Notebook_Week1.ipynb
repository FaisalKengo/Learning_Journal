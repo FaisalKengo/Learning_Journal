{
 "cells": [
  {
   "cell_type": "markdown",
   "metadata": {},
   "source": [
    "# Notebook Pertama (11 Juli 2022)"
   ]
  },
  {
   "cell_type": "markdown",
   "metadata": {},
   "source": [
    "Notebook pertama saya dalam VSCode"
   ]
  },
  {
   "cell_type": "code",
   "execution_count": 1,
   "metadata": {},
   "outputs": [
    {
     "name": "stdout",
     "output_type": "stream",
     "text": [
      "Halo, nama saya Faisal Kengo. Kalian bisa panggil saya Faisal atau Kengo\n"
     ]
    }
   ],
   "source": [
    "print(\"Halo, nama saya Faisal Kengo. Kalian bisa panggil saya Faisal atau Kengo\")"
   ]
  },
  {
   "cell_type": "markdown",
   "metadata": {},
   "source": [
    "## Tipe Data dalam Python"
   ]
  },
  {
   "cell_type": "markdown",
   "metadata": {},
   "source": [
    "Tipe data tunggal merupakan suatu tipe data yang hanya dapat merepresentasikan satu jenis data (Contoh: Integer, Float , Bool, Str). Sedangkan tipe data majemuk adalah suatu tipe data yang dapat merepresentasikan lebih dari satu macam data."
   ]
  },
  {
   "cell_type": "markdown",
   "metadata": {},
   "source": [
    "Berikut adalah contoh tipe data tunggal:"
   ]
  },
  {
   "cell_type": "code",
   "execution_count": 12,
   "metadata": {},
   "outputs": [
    {
     "data": {
      "text/plain": [
       "5"
      ]
     },
     "execution_count": 12,
     "metadata": {},
     "output_type": "execute_result"
    }
   ],
   "source": [
    "5"
   ]
  },
  {
   "cell_type": "code",
   "execution_count": 4,
   "metadata": {},
   "outputs": [
    {
     "data": {
      "text/plain": [
       "int"
      ]
     },
     "execution_count": 4,
     "metadata": {},
     "output_type": "execute_result"
    }
   ],
   "source": [
    "#Contoh tipe data integer\n",
    "type(5)"
   ]
  },
  {
   "cell_type": "code",
   "execution_count": 15,
   "metadata": {},
   "outputs": [
    {
     "data": {
      "text/plain": [
       "float"
      ]
     },
     "execution_count": 15,
     "metadata": {},
     "output_type": "execute_result"
    }
   ],
   "source": [
    "#Contoh tipe data float\n",
    "type(5.0)"
   ]
  },
  {
   "cell_type": "code",
   "execution_count": 16,
   "metadata": {},
   "outputs": [
    {
     "data": {
      "text/plain": [
       "bool"
      ]
     },
     "execution_count": 16,
     "metadata": {},
     "output_type": "execute_result"
    }
   ],
   "source": [
    "#Contoh tipe data boolean\n",
    "type(True)"
   ]
  },
  {
   "cell_type": "code",
   "execution_count": 17,
   "metadata": {},
   "outputs": [
    {
     "data": {
      "text/plain": [
       "str"
      ]
     },
     "execution_count": 17,
     "metadata": {},
     "output_type": "execute_result"
    }
   ],
   "source": [
    "#Contoh tipe data string\n",
    "type(\"Faisal\")"
   ]
  },
  {
   "cell_type": "code",
   "execution_count": 14,
   "metadata": {},
   "outputs": [
    {
     "data": {
      "text/plain": [
       "str"
      ]
     },
     "execution_count": 14,
     "metadata": {},
     "output_type": "execute_result"
    }
   ],
   "source": [
    "#Tipe data yang muncul hanyalah tipe data yang paling terakhir diproses\n",
    "type(5)\n",
    "type(5.0)\n",
    "type(True)\n",
    "type(\"Faisal\")"
   ]
  },
  {
   "cell_type": "code",
   "execution_count": 18,
   "metadata": {},
   "outputs": [
    {
     "name": "stdout",
     "output_type": "stream",
     "text": [
      "<class 'int'>\n",
      "<class 'float'>\n",
      "<class 'bool'>\n",
      "<class 'str'>\n"
     ]
    }
   ],
   "source": [
    "#Untuk menunjukkan tipe data dari dua perintah 'type', bungkus perintah 'type' dengan perintah 'print'\n",
    "print(type(5))\n",
    "print(type(5.0))\n",
    "print(type(True))\n",
    "print(type(\"Faisal\"))"
   ]
  },
  {
   "cell_type": "markdown",
   "metadata": {},
   "source": [
    "Berikut adalah contoh data majemuk:"
   ]
  },
  {
   "cell_type": "code",
   "execution_count": 26,
   "metadata": {},
   "outputs": [
    {
     "data": {
      "text/plain": [
       "(1, 4, 'Faisal', 6.9, False)"
      ]
     },
     "execution_count": 26,
     "metadata": {},
     "output_type": "execute_result"
    }
   ],
   "source": [
    "#Contoh tipe data majemuk (1)\n",
    "(1, 4, \"Faisal\", 6.9, False)"
   ]
  },
  {
   "cell_type": "code",
   "execution_count": 28,
   "metadata": {},
   "outputs": [
    {
     "data": {
      "text/plain": [
       "{'Nama': 'Faisal Kengo', 'Usia': 22}"
      ]
     },
     "execution_count": 28,
     "metadata": {},
     "output_type": "execute_result"
    }
   ],
   "source": [
    "#Contoh tipe data majemuk (2)\n",
    "{'Nama':'Faisal Kengo', 'Usia':22}"
   ]
  },
  {
   "cell_type": "code",
   "execution_count": 29,
   "metadata": {},
   "outputs": [
    {
     "name": "stdout",
     "output_type": "stream",
     "text": [
      "<class 'tuple'>\n",
      "<class 'list'>\n",
      "<class 'dict'>\n"
     ]
    }
   ],
   "source": [
    "#Contoh tipe data tuple\n",
    "print(type((1, 4, \"Faisal\", 6.9, False)))\n",
    "#Contoh tipe data list\n",
    "print(type([1, 4, \"Faisal\", 6.9, False]))\n",
    "#Contoh tipe data dictionary\n",
    "print(type({'Nama':'Faisal Kengo', 'Usia':22}))"
   ]
  },
  {
   "cell_type": "markdown",
   "metadata": {},
   "source": [
    "## Variabel"
   ]
  },
  {
   "cell_type": "markdown",
   "metadata": {},
   "source": [
    "Variabel merupakan sebuah koefisien yang dapat digunakan untuk menyimpan suatu data agar dapat digunakan kembali di baris berikutnya."
   ]
  },
  {
   "cell_type": "code",
   "execution_count": 31,
   "metadata": {},
   "outputs": [
    {
     "name": "stdout",
     "output_type": "stream",
     "text": [
      "5\n"
     ]
    }
   ],
   "source": [
    "x = 5\n",
    "print(x)\n",
    "#Tanda '=' digunakan untuk menyatakan nilai dari variabel tersebut"
   ]
  },
  {
   "cell_type": "code",
   "execution_count": 33,
   "metadata": {},
   "outputs": [
    {
     "data": {
      "text/plain": [
       "9"
      ]
     },
     "execution_count": 33,
     "metadata": {},
     "output_type": "execute_result"
    }
   ],
   "source": [
    "x + 4"
   ]
  },
  {
   "cell_type": "code",
   "execution_count": 40,
   "metadata": {},
   "outputs": [
    {
     "data": {
      "text/plain": [
       "7"
      ]
     },
     "execution_count": 40,
     "metadata": {},
     "output_type": "execute_result"
    }
   ],
   "source": [
    "#Semua variabel harus didefinisikan apabila akan digunakan\n",
    "y = 2\n",
    "x + y"
   ]
  },
  {
   "cell_type": "code",
   "execution_count": 41,
   "metadata": {},
   "outputs": [
    {
     "name": "stdout",
     "output_type": "stream",
     "text": [
      "2\n",
      "4\n"
     ]
    }
   ],
   "source": [
    "#Nilai dari suatu variabel bisa didefinisikan ulang dengan memasukkan nilai yang baru\n",
    "x = 2\n",
    "print(x)\n",
    "print(x+y)"
   ]
  },
  {
   "cell_type": "markdown",
   "metadata": {},
   "source": [
    "Catatan: Perhatikan urutan cell pada notebook"
   ]
  },
  {
   "cell_type": "code",
   "execution_count": 49,
   "metadata": {},
   "outputs": [
    {
     "name": "stdout",
     "output_type": "stream",
     "text": [
      "<class 'int'>\n",
      "<class 'float'>\n",
      "<class 'bool'>\n",
      "<class 'str'>\n",
      "<class 'str'>\n"
     ]
    }
   ],
   "source": [
    "#Tipe data variabel juga dapat dilihat dengan perintah 'Type'\n",
    "print(type(x))\n",
    "x_1 = 5.0\n",
    "print(type(x_1))\n",
    "x_2 = True\n",
    "print(type(x_2))\n",
    "x_3 = \"Faisal\"\n",
    "print(type(x_3))\n",
    "x_4 = \"5\"\n",
    "print(type(x_4))"
   ]
  },
  {
   "cell_type": "code",
   "execution_count": 47,
   "metadata": {},
   "outputs": [
    {
     "name": "stdout",
     "output_type": "stream",
     "text": [
      "Faisal Kengo\n",
      "22\n"
     ]
    }
   ],
   "source": [
    "#Data dapat dimasukkan sekaligus di dalam satu baris\n",
    "nama, usia = \"Faisal Kengo\", 22\n",
    "print(nama)\n",
    "print(usia)"
   ]
  },
  {
   "cell_type": "markdown",
   "metadata": {},
   "source": [
    "## Penamaan Variabel"
   ]
  },
  {
   "cell_type": "markdown",
   "metadata": {},
   "source": [
    "Variabel di dalam python dapat dibuat sebebas-bebasnya dengan menggunakan huruf kapital dan huruf kecil, angka, dan simbol underscore dengan syarat nama variabel tidak diawali dengan angka dan tidak menggunakan nama perintah bawaan dari Python.\n",
    "\n",
    "Umumnya penamaan variabel dibagi menjadi 3 jenis, yaitu:\n",
    "1. Camel Case (huruf besar di setiap awal kata kecuali kata pertama dan tanpa spasi, umumnya digunakan untuk mengungkapkan kelas)\n",
    "2. Pascal Case (huruf besar di setiap awal kata dan tanpa spasi, umumnya digunakan untuk mengungkapkan kelas)\n",
    "3. Snake Case (huruf kecil di setiap awal kata dengan simbol underscore di antara dua kata, umumnya digunakan untuk mengungkapkan variabel)"
   ]
  },
  {
   "cell_type": "code",
   "execution_count": 50,
   "metadata": {},
   "outputs": [
    {
     "name": "stdout",
     "output_type": "stream",
     "text": [
      "5.0 True Faisal 5\n"
     ]
    }
   ],
   "source": [
    "#Contoh penamaan variabel yang benar\n",
    "x_1 = 5.0\n",
    "x_2 = True\n",
    "x_3 = \"Faisal\"\n",
    "x_4 = \"5\"\n",
    "print(x_1, x_2, x_3, x_4)"
   ]
  },
  {
   "cell_type": "markdown",
   "metadata": {},
   "source": [
    "## String"
   ]
  },
  {
   "cell_type": "markdown",
   "metadata": {},
   "source": [
    "Di dalam python, penggunaan tanda kutip satu dan tanda kutip dua tidak dibedakan untuk mendefinisikan tipe data string. Untuk menuliskan string WAJIB menggunakan tanda kutip yang sama."
   ]
  },
  {
   "cell_type": "code",
   "execution_count": 52,
   "metadata": {},
   "outputs": [
    {
     "data": {
      "text/plain": [
       "str"
      ]
     },
     "execution_count": 52,
     "metadata": {},
     "output_type": "execute_result"
    }
   ],
   "source": [
    "my_string = 'Faisal Kengo'\n",
    "my_string_2 = 'Faisal Kengo'\n",
    "type(my_string)"
   ]
  },
  {
   "cell_type": "code",
   "execution_count": 54,
   "metadata": {},
   "outputs": [
    {
     "name": "stdout",
     "output_type": "stream",
     "text": [
      "Jum'at\n",
      "\"OPOP apalah saya\"\n"
     ]
    }
   ],
   "source": [
    "#Escape character merupakan karakter yang digunakan untuk 'memberi tahu' variabel yang digunakan bahwa tanda kutip yang digunakan merupakan bagian dari variabel tersebut\n",
    "hari = 'Jum\\'at'\n",
    "print(hari)\n",
    "#Lebih mudah untuk menggunakan tanda kutip yang lain untuk menandai variabel string dengan tanda kutip\n",
    "quote = '\"OPOP apalah saya\"'\n",
    "print(quote)"
   ]
  },
  {
   "cell_type": "code",
   "execution_count": 55,
   "metadata": {},
   "outputs": [
    {
     "data": {
      "text/plain": [
       "18"
      ]
     },
     "execution_count": 55,
     "metadata": {},
     "output_type": "execute_result"
    }
   ],
   "source": [
    "#Perintah 'len' digunakan untuk menghitung jumlah karakter di dalam suatu variabel string\n",
    "len(quote)"
   ]
  },
  {
   "cell_type": "code",
   "execution_count": 66,
   "metadata": {},
   "outputs": [
    {
     "name": "stdout",
     "output_type": "stream",
     "text": [
      "\"OPOP APALAH SAYA\"\n",
      "\"opop apalah saya\"\n",
      "FAISAL\n",
      "faisal\n",
      "fAISAL\n",
      "Faisal\n"
     ]
    }
   ],
   "source": [
    "#Jenis huruf di dalam variabel bisa ditampilkan dalam huruf lain tanpa mengubah nilai data aslinya.\n",
    "print(quote.upper())\n",
    "print(quote.lower())\n",
    "my_name = 'Faisal'\n",
    "print(my_name.upper())\n",
    "print(my_name.lower())\n",
    "print(my_name.swapcase())\n",
    "print(my_name.capitalize())"
   ]
  },
  {
   "cell_type": "code",
   "execution_count": 63,
   "metadata": {},
   "outputs": [
    {
     "name": "stdout",
     "output_type": "stream",
     "text": [
      "\"OPOP APALAH SAYA\"\n"
     ]
    }
   ],
   "source": [
    "#Variabel string juga dapat ditimpa dengan menggunakan perintah di atas\n",
    "quote = quote.upper()\n",
    "print(quote)"
   ]
  },
  {
   "cell_type": "markdown",
   "metadata": {},
   "source": [
    "## String Formatting"
   ]
  },
  {
   "cell_type": "markdown",
   "metadata": {},
   "source": [
    "Merupakan metode formatting yang dapat digunakan di python."
   ]
  },
  {
   "cell_type": "code",
   "execution_count": 68,
   "metadata": {},
   "outputs": [
    {
     "name": "stdout",
     "output_type": "stream",
     "text": [
      "Nama saya Faisal Kengo, usia saya 22 tahun\n"
     ]
    }
   ],
   "source": [
    "#Variabel dapat dipanggil untuk ditampilkan dalam bentuk string\n",
    "#Ada beberapa format string lain yang dapat digunakan selain 'f', namun tidak banyak digunakan di versi Python ini.\n",
    "print(f\"Nama saya {nama}, usia saya {usia} tahun\")"
   ]
  },
  {
   "cell_type": "markdown",
   "metadata": {},
   "source": [
    "## Indexing & Slicing"
   ]
  },
  {
   "cell_type": "markdown",
   "metadata": {},
   "source": [
    "Merupakan metode untuk memisahkan karakter tertentu dari suatu string"
   ]
  },
  {
   "cell_type": "markdown",
   "metadata": {},
   "source": [
    "Berikut adalah contoh indexing:"
   ]
  },
  {
   "cell_type": "code",
   "execution_count": 75,
   "metadata": {},
   "outputs": [
    {
     "name": "stdout",
     "output_type": "stream",
     "text": [
      "\"OPOP APALAH SAYA\"\n",
      "P\n",
      "A\n"
     ]
    }
   ],
   "source": [
    "#Penomoran karakter di dalam string pada python dimulai dari 0\n",
    "print(quote)\n",
    "print(quote[2])\n",
    "#Karakter dapat diambil dari sebelah kanan dengan menambahkan tanda '-'\n",
    "print(quote[-2])"
   ]
  },
  {
   "cell_type": "markdown",
   "metadata": {},
   "source": [
    "Berikut adalah contoh slicing:"
   ]
  },
  {
   "cell_type": "code",
   "execution_count": 94,
   "metadata": {},
   "outputs": [
    {
     "name": "stdout",
     "output_type": "stream",
     "text": [
      "\"OPOP APALAH SAYA\"\n",
      "OPOP\n",
      "OPOP\n",
      "OPOP APALAH SAYA\"\n",
      "\"OPOP APALAH SAYA\"\n",
      "POPO\n"
     ]
    }
   ],
   "source": [
    "#Penomoran karakter di dalam string pada python dimulai dari 0\n",
    "print(quote)\n",
    "#digit pertama merupakan indeks awal (inklusif -termasuk ke dalam hasil irisan)\n",
    "#digit kedua merupakan indeks akhir (ekslusif -tidak termasuk ke dalam hasil irisan)\n",
    "#digit ketiga merupakan step\n",
    "print(quote[1:5:1])\n",
    "#nilai digit ketiga secara default adalah 1 apabila tidak ditulis\n",
    "print(quote[1:5])\n",
    "#string akan dimulai dari karakter yang ditunjuk pada digit pertama hingga selesai apabila hanya digit pertama yang dimasukkan\n",
    "print(quote[1:])\n",
    "#string akan muncul apa adanya apabila semua digitnya tidak didefinisikan\n",
    "print(quote[:])\n",
    "#slicing dapat dilakukan secara terbalik, dengan digit ketiga menandakan arah string yang akan diambil\n",
    "print(quote[4:0:-1])"
   ]
  },
  {
   "cell_type": "markdown",
   "metadata": {},
   "source": [
    "## Boolean"
   ]
  },
  {
   "cell_type": "markdown",
   "metadata": {},
   "source": [
    "Boolean merupakan variabel logika yang hanya memiliki dua nilai, benar (True) atau salah (False)"
   ]
  },
  {
   "cell_type": "markdown",
   "metadata": {},
   "source": [
    "## Operasi"
   ]
  },
  {
   "cell_type": "markdown",
   "metadata": {},
   "source": [
    "Merupakan suatu hal yang dilakukan untuk memanipulasi dua atau lebih data yang digunakan. Operasi terdiri dari operasi aritmatika, operasi perbandingan, operasi logika, dan operasi keanggotaan"
   ]
  },
  {
   "cell_type": "markdown",
   "metadata": {},
   "source": [
    "Berikut adalah contoh operasi aritmatika:"
   ]
  },
  {
   "cell_type": "code",
   "execution_count": 102,
   "metadata": {},
   "outputs": [
    {
     "name": "stdout",
     "output_type": "stream",
     "text": [
      "11\n",
      "-1\n",
      "30\n",
      "2.5\n",
      "2\n",
      "1\n",
      "25\n"
     ]
    }
   ],
   "source": [
    "#Penjumlahan\n",
    "print(5 + 6)\n",
    "#Pengurangan\n",
    "print(5 - 6)\n",
    "#Perkalian\n",
    "print(5 * 6)\n",
    "#Pembagian biasa\n",
    "print(5 / 2)\n",
    "#Pembagian integer\n",
    "print(5 // 2)\n",
    "#Pembagian sisa bagi\n",
    "print(5 % 2)\n",
    "#Perpangkatan\n",
    "print(5 ** 2)"
   ]
  },
  {
   "cell_type": "markdown",
   "metadata": {},
   "source": [
    "Berikut adalah contoh operasi aritmatika pada string:"
   ]
  },
  {
   "cell_type": "code",
   "execution_count": 107,
   "metadata": {},
   "outputs": [
    {
     "name": "stdout",
     "output_type": "stream",
     "text": [
      "FaisalKengo\n",
      "KengoKengoKengo\n"
     ]
    }
   ],
   "source": [
    "#Tanda '+' untuk string digunakan untuk menggabungkan dua buah variabel string\n",
    "nama_depan = \"Faisal\"\n",
    "nama_belakang = \"Kengo\"\n",
    "print(nama_depan + nama_belakang)\n",
    "#Variabel string dapat dikalikan dengan bilangan bulat\n",
    "print(nama_belakang * 3)"
   ]
  },
  {
   "cell_type": "markdown",
   "metadata": {},
   "source": [
    "Berikut adalah contoh operasi perbandingan:"
   ]
  },
  {
   "cell_type": "code",
   "execution_count": 110,
   "metadata": {},
   "outputs": [
    {
     "name": "stdout",
     "output_type": "stream",
     "text": [
      "False\n",
      "True\n",
      "False\n",
      "True\n",
      "False\n",
      "True\n"
     ]
    }
   ],
   "source": [
    "#Operasi perbandingan sama deengan\n",
    "print(5 == 3)\n",
    "#Operasi perbandingan lebih besar sama dengan\n",
    "print(5 >= 3)\n",
    "#Operasi perbandingan lebih kecil sama dengan\n",
    "print(5 <= 3)\n",
    "#Operasi perbandingan lebih besar\n",
    "print(5 > 3)\n",
    "#Operasi perbandingan lebih kecil\n",
    "print(5 < 3)\n",
    "#Operasi perbandingan tidak sama dengan\n",
    "print(5 != 3)"
   ]
  },
  {
   "cell_type": "code",
   "execution_count": 112,
   "metadata": {},
   "outputs": [
    {
     "name": "stdout",
     "output_type": "stream",
     "text": [
      "False\n"
     ]
    }
   ],
   "source": [
    "#Hasil dari operasi perbandingan dapat disimpan di dalam suatu variabel\n",
    "hasil = 5 < 3\n",
    "print(hasil)"
   ]
  },
  {
   "cell_type": "markdown",
   "metadata": {},
   "source": [
    "Operasi logika nantinya akan banyak digunakan dalam proses 'if'/'else'. Berikut adalah contoh operasi logika (operasi yang menggunakan dua atau lebih operasi perbandingan):"
   ]
  },
  {
   "cell_type": "code",
   "execution_count": 116,
   "metadata": {},
   "outputs": [
    {
     "name": "stdout",
     "output_type": "stream",
     "text": [
      "True\n",
      "False\n",
      "False\n",
      "False\n",
      "True\n",
      "True\n",
      "True\n",
      "False\n"
     ]
    }
   ],
   "source": [
    "#Contoh operasi logika 'and'\n",
    "#Operasi 'and' dapat diibaratkan sebagai operasi perkalian antara 1 dan/atau 0\n",
    "print(True and True)\n",
    "print(True and False)\n",
    "print(False and True)\n",
    "print(False and False)\n",
    "#Contoh operasi logika 'or'\n",
    "#Operasi 'or' dapat diibaratkan sebagai operasi penjumlahan antara 1 dan/atau 0\n",
    "print(True or True)\n",
    "print(True or False)\n",
    "print(False or True)\n",
    "print(False or False)"
   ]
  },
  {
   "cell_type": "markdown",
   "metadata": {},
   "source": [
    "Operasi keanggotaan merupakan suatu operasi untuk mengecek apakah komponen yang ditunjuk merupakan bagian dari himpunan yang lebih besar"
   ]
  },
  {
   "cell_type": "code",
   "execution_count": 122,
   "metadata": {},
   "outputs": [
    {
     "name": "stdout",
     "output_type": "stream",
     "text": [
      "\"OPOP APALAH SAYA\"\n",
      "True\n",
      "False\n",
      "True\n",
      "False\n"
     ]
    }
   ],
   "source": [
    "print(quote)\n",
    "print(\"OP\" in quote)\n",
    "#Operasi ini sensitif terhadap besar-kecilnya huruf\n",
    "print(\"op\" in quote)\n",
    "\n",
    "buahbuahan = (\"Pepaya\", \"Mangga\", \"Apel\", \"Jeruk\")\n",
    "print(\"Mangga\" in buahbuahan)\n",
    "print(\"mangga\" in buahbuahan)"
   ]
  },
  {
   "cell_type": "markdown",
   "metadata": {},
   "source": [
    "## List, Tuple, dan Dictionary"
   ]
  },
  {
   "cell_type": "markdown",
   "metadata": {},
   "source": [
    "Variabel 'tuple' merupakan variabel data majemuk yang ketika data-datanya sudah dimasukkan tidak dapat diubah kembali, sedangkan ketika data-data sudah dimasukkan ke dalam variabel 'list' isinya masih bisa dapat diubah."
   ]
  },
  {
   "cell_type": "markdown",
   "metadata": {},
   "source": [
    "Berikut ini adalah contoh variabel data tuple:"
   ]
  },
  {
   "cell_type": "code",
   "execution_count": 129,
   "metadata": {},
   "outputs": [
    {
     "name": "stdout",
     "output_type": "stream",
     "text": [
      "20\n",
      "sal\n",
      "(4, 20, 6.9)\n",
      "6\n"
     ]
    }
   ],
   "source": [
    "tuple_1 = (\"Faisal\", 4, 20, 6.9, False, (7, 2, 7.0))\n",
    "#Konsep indexing juga berlaku di dalam variabel data majemuk\n",
    "print(tuple_1[2])\n",
    "#Data string pada variabel data majemuk juga dapat diiris\n",
    "print(tuple_1[0][3:6:1])\n",
    "#Data-data yang terdapat dalam variabel dapat diiris\n",
    "print(tuple_1[1:4])\n",
    "#Jumlah elemen dalam data majemuk dapat dihitung\n",
    "print(len(tuple_1))"
   ]
  },
  {
   "cell_type": "markdown",
   "metadata": {},
   "source": [
    "Berikut ini adalah contoh variabel data list:"
   ]
  },
  {
   "cell_type": "code",
   "execution_count": 137,
   "metadata": {},
   "outputs": [
    {
     "name": "stdout",
     "output_type": "stream",
     "text": [
      "20\n",
      "sal\n",
      "[4, 20, 6.9]\n",
      "6\n",
      "['Kengo', 4, 20, 6.9, False, (7, 2, 7.0)]\n",
      "['Kengo', 4, 20, 6.9, False, (7, 2, 7.0), 'Faisal']\n",
      "['Kengo', 'OPOP', 4, 20, 6.9, False, (7, 2, 7.0), 'Faisal']\n",
      "['Kengo', 'OPOP', 4, 20, 6.9, False, 'Faisal']\n",
      "['Kengo', 'OPOP', 4, 20, 6.9, 'Faisal']\n"
     ]
    }
   ],
   "source": [
    "list_1 = [\"Faisal\", 4, 20, 6.9, False, (7, 2, 7.0)]\n",
    "#Konsep indexing juga berlaku di dalam variabel data majemuk\n",
    "print(list_1[2])\n",
    "#Data string pada variabel data majemuk juga dapat diiris\n",
    "print(list_1[0][3:6:1])\n",
    "#Data-data yang terdapat dalam variabel dapat diiris\n",
    "print(list_1[1:4])\n",
    "#Jumlah elemen dalam data majemuk dapat dihitung\n",
    "print(len(list_1))\n",
    "#Elemen dalam variabel masih dapat diubah\n",
    "list_1[0] = \"Kengo\"\n",
    "print(list_1)\n",
    "#Variabel dapat ditambahkan elemen baru di bagian belakang\n",
    "list_1.append(\"Faisal\")\n",
    "print(list_1)\n",
    "#Variabel dapat ditambahkan di posisi tertentu dengan mengspesifikasikan posisi indeksnya\n",
    "list_1.insert(1, \"OPOP\")\n",
    "print(list_1)\n",
    "#Menghapus elemen variabel berdasarkan nilai\n",
    "list_1.remove((7, 2, 7.0))\n",
    "print(list_1)\n",
    "#Menghapus elemen variabel berdasarkan indeks\n",
    "del list_1[5]\n",
    "print(list_1)"
   ]
  },
  {
   "cell_type": "markdown",
   "metadata": {},
   "source": [
    "Berikut ini merupakan contoh variabel data dictionary:"
   ]
  },
  {
   "cell_type": "code",
   "execution_count": 144,
   "metadata": {},
   "outputs": [
    {
     "name": "stdout",
     "output_type": "stream",
     "text": [
      "Kengo\n",
      "dict_keys(['Nama Depan', 'Nama Belakang', 'Usia'])\n",
      "dict_values(['Faisal', 'Kengo', '22'])\n",
      "{'Nama Depan': 'Faisal', 'Nama Belakang': 'Kengo', 'Usia': 23, 'Jenis Kelamin': 'Laki-laki'}\n",
      "{'Nama Depan': 'Faisal', 'Nama Belakang': 'Kengo', 'Jenis Kelamin': 'Laki-laki'}\n"
     ]
    }
   ],
   "source": [
    "biodata = {\"Nama Depan\": \"Faisal\", \"Nama Belakang\": \"Kengo\", \"Usia\": \"22\"}\n",
    "#Perintah untuk memanggil nilai dari variabel dictionary\n",
    "print(biodata[\"Nama Belakang\"])\n",
    "#Perintah untuk melihat data di dalam variabel dictionary\n",
    "print(biodata.keys())\n",
    "#Perintah untuk melihat nilai di dalam variabel dictionary\n",
    "print(biodata.values())\n",
    "#Nilai di dalam variabel bisa diubah dan ditambah\n",
    "biodata[\"Usia\"] = 23\n",
    "biodata[\"Jenis Kelamin\"] = \"Laki-laki\"\n",
    "print(biodata)\n",
    "#Nilai di dalam variabel bisa dihapus dengan mengspesifikasi data apa yang ingin dihapus\n",
    "del biodata[\"Usia\"]\n",
    "print(biodata)"
   ]
  },
  {
   "cell_type": "code",
   "execution_count": null,
   "metadata": {},
   "outputs": [],
   "source": []
  }
 ],
 "metadata": {
  "kernelspec": {
   "display_name": "Python 3.9.12 ('base')",
   "language": "python",
   "name": "python3"
  },
  "language_info": {
   "codemirror_mode": {
    "name": "ipython",
    "version": 3
   },
   "file_extension": ".py",
   "mimetype": "text/x-python",
   "name": "python",
   "nbconvert_exporter": "python",
   "pygments_lexer": "ipython3",
   "version": "3.9.12"
  },
  "orig_nbformat": 4,
  "vscode": {
   "interpreter": {
    "hash": "d4a4050df37647cce9f897d8be73e70f5f75cc37a70fc5027d2d46479925067e"
   }
  }
 },
 "nbformat": 4,
 "nbformat_minor": 2
}
