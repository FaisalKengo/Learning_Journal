{
 "cells": [
  {
   "cell_type": "markdown",
   "metadata": {},
   "source": [
    "# Penerapan Kondisional dan Loop"
   ]
  },
  {
   "cell_type": "markdown",
   "metadata": {},
   "source": [
    "## Variabel\n",
    "\n",
    "Variabel merupakan suatu konstanta untuk menyimpan suatu nilai tertentu untuk kemudian dipanggil kembali di lain waktu. Karakter yang digunakan untuk variabel bersifat sensitif."
   ]
  },
  {
   "cell_type": "markdown",
   "metadata": {},
   "source": [
    "## Kondisional\n",
    "\n",
    "Merupakan suatu jenis program yang baru akan berjalan ketika kondisinya terpenuhi. Syntax dari fungsi kondisional adalah sebagai berikut:"
   ]
  },
  {
   "cell_type": "code",
   "execution_count": 1,
   "metadata": {},
   "outputs": [
    {
     "name": "stdout",
     "output_type": "stream",
     "text": [
      "Hello\n",
      "Goodbye\n"
     ]
    }
   ],
   "source": [
    "if True:\n",
    "    print(\"Hello\")\n",
    "    print(\"Goodbye\")"
   ]
  },
  {
   "cell_type": "markdown",
   "metadata": {},
   "source": [
    "Di mana 'True' merupakan kondisi, 'print (\"Hello\")' dan 'print (\"Goodbye\")' merupakan perintah yang akan dieksekusi ketika kondisinya terpenuhi. Kondisi dapat dibentuk dengan menggunakan operator matematika untuk angka atau perintah 'in' untuk string selama kondisinya dapat memberikan hasil boolean."
   ]
  },
  {
   "cell_type": "code",
   "execution_count": 14,
   "metadata": {},
   "outputs": [
    {
     "name": "stdout",
     "output_type": "stream",
     "text": [
      "Nilai lebih besar dari 10\n",
      "20 > 10\n"
     ]
    }
   ],
   "source": [
    "angka = 20\n",
    "\n",
    "if angka > 10:\n",
    "    print(\"Nilai lebih besar dari 10\")\n",
    "    print(f\"{angka} > 10\")"
   ]
  },
  {
   "cell_type": "code",
   "execution_count": 13,
   "metadata": {},
   "outputs": [
    {
     "name": "stdout",
     "output_type": "stream",
     "text": [
      "Nilai lebih besar dari 10\n"
     ]
    }
   ],
   "source": [
    "angka = 20\n",
    "cond = (angka > 10) & (angka > 5)\n",
    "\n",
    "if cond:\n",
    "    print(\"Nilai lebih besar dari 10\")"
   ]
  },
  {
   "cell_type": "markdown",
   "metadata": {},
   "source": [
    "Untuk menentukan perintah yang akan dikerjakan ketika kondisi sebelumnya tidak terpenuhi, dapat menggunakan perintah 'else' dan 'elif' ('elif' digunakan apabila kondisi yang digunakan lebih dari 2)."
   ]
  },
  {
   "cell_type": "code",
   "execution_count": 18,
   "metadata": {},
   "outputs": [
    {
     "name": "stdout",
     "output_type": "stream",
     "text": [
      "Nilai sama dengan dari 10\n",
      "10 = 10\n"
     ]
    }
   ],
   "source": [
    "angka = 10\n",
    "\n",
    "if angka > 10:\n",
    "    print(\"Nilai lebih besar dari 10\")\n",
    "    print(f\"{angka} > 10\")\n",
    "elif angka == 10:\n",
    "    print(\"Nilai sama dengan dari 10\")\n",
    "    print(f\"{angka} = 10\")\n",
    "else:\n",
    "    print(\"Nilai lebih kecil dari 10\")\n",
    "    print(f\"{angka} < 10\")\n"
   ]
  },
  {
   "cell_type": "markdown",
   "metadata": {},
   "source": [
    "Latihan membuat perintah 'if' dan *nested* 'if':\n",
    "\n",
    "Buatlah kondisi untuk rentang skor berikut!\n",
    "\n",
    "A = [80 - 100]\n",
    "\n",
    "B = [70 - 80)\n",
    "\n",
    "C = [60 - 70)\n",
    "\n",
    "D = [40 - 60)\n",
    "\n",
    "E = [0 - 40)"
   ]
  },
  {
   "cell_type": "code",
   "execution_count": 22,
   "metadata": {},
   "outputs": [
    {
     "name": "stdout",
     "output_type": "stream",
     "text": [
      "Nilai diluar batas yang ditentukan\n"
     ]
    }
   ],
   "source": [
    "nilai = 105\n",
    "\n",
    "if 0 <= nilai <= 100:\n",
    "    if 80 <= nilai <= 100:\n",
    "        print(\"Skor: A\")\n",
    "    elif 70 <= nilai < 80:\n",
    "        print(\"Skor: B\")\n",
    "    elif 60 <= nilai < 70:\n",
    "        print(\"Skor: C\")\n",
    "    elif 40 <= nilai < 60:\n",
    "        print(\"Skor: D\")\n",
    "    else:\n",
    "        print(\"Skor: E\")\n",
    "else:\n",
    "    print(\"Nilai diluar batas yang ditentukan\")"
   ]
  },
  {
   "cell_type": "markdown",
   "metadata": {},
   "source": [
    "Contoh penerapan kondisional pada data string:"
   ]
  },
  {
   "cell_type": "code",
   "execution_count": null,
   "metadata": {},
   "outputs": [],
   "source": [
    "cities = [\"Malang\", \"Banjarmasin\", \"Depok\", \"Tangerang Selatan\"]\n",
    "kota = \"Jakarta\"\n",
    "\n",
    "if kota in cities:\n",
    "    print(f\"{kota} termasuk ke dalam cities\")"
   ]
  },
  {
   "cell_type": "markdown",
   "metadata": {},
   "source": [
    "## Looping\n",
    "\n",
    "Merupakan suatu jenis program yang baru akan berjalan selama kondisinya terpenuhi. Secara sifat mirip seperti pada program kondisional. Apabila kondisinya akan selalu terpenuhi, maka program akan terus-menerus melakukan pengecekan.\n",
    "\n",
    "Untuk mencegah terjadinya *infinte loop*, kita perlu menetapkan apa kondisi 'True' dan 'False' yang akan digunakan serta memanfaatkan update dari variabel tersebut."
   ]
  },
  {
   "cell_type": "markdown",
   "metadata": {},
   "source": [
    "Berikut adalah contoh dari loop 'While':"
   ]
  },
  {
   "cell_type": "code",
   "execution_count": 23,
   "metadata": {},
   "outputs": [
    {
     "name": "stdout",
     "output_type": "stream",
     "text": [
      "5 * 1 = 5\n",
      "5 * 2 = 10\n",
      "5 * 3 = 15\n",
      "5 * 4 = 20\n",
      "5 * 5 = 25\n",
      "5 * 6 = 30\n",
      "5 * 7 = 35\n",
      "5 * 8 = 40\n",
      "5 * 9 = 45\n",
      "5 * 10 = 50\n"
     ]
    }
   ],
   "source": [
    "i = 1\n",
    "\n",
    "while i <= 10:\n",
    "    print(f\"5 * {i} = {5 * i}\")\n",
    "    i = i + 1"
   ]
  },
  {
   "cell_type": "code",
   "execution_count": 25,
   "metadata": {},
   "outputs": [
    {
     "name": "stdout",
     "output_type": "stream",
     "text": [
      "Perkalian 1\n",
      "1 * 1 = 1\n",
      "1 * 2 = 2\n",
      "1 * 3 = 3\n",
      "1 * 4 = 4\n",
      "1 * 5 = 5\n",
      "1 * 6 = 6\n",
      "1 * 7 = 7\n",
      "1 * 8 = 8\n",
      "1 * 9 = 9\n",
      "1 * 10 = 10\n",
      "----------\n",
      "Perkalian 2\n",
      "2 * 1 = 2\n",
      "2 * 2 = 4\n",
      "2 * 3 = 6\n",
      "2 * 4 = 8\n",
      "2 * 5 = 10\n",
      "2 * 6 = 12\n",
      "2 * 7 = 14\n",
      "2 * 8 = 16\n",
      "2 * 9 = 18\n",
      "2 * 10 = 20\n",
      "----------\n",
      "Perkalian 3\n",
      "3 * 1 = 3\n",
      "3 * 2 = 6\n",
      "3 * 3 = 9\n",
      "3 * 4 = 12\n",
      "3 * 5 = 15\n",
      "3 * 6 = 18\n",
      "3 * 7 = 21\n",
      "3 * 8 = 24\n",
      "3 * 9 = 27\n",
      "3 * 10 = 30\n",
      "----------\n",
      "Perkalian 4\n",
      "4 * 1 = 4\n",
      "4 * 2 = 8\n",
      "4 * 3 = 12\n",
      "4 * 4 = 16\n",
      "4 * 5 = 20\n",
      "4 * 6 = 24\n",
      "4 * 7 = 28\n",
      "4 * 8 = 32\n",
      "4 * 9 = 36\n",
      "4 * 10 = 40\n",
      "----------\n",
      "Perkalian 5\n",
      "5 * 1 = 5\n",
      "5 * 2 = 10\n",
      "5 * 3 = 15\n",
      "5 * 4 = 20\n",
      "5 * 5 = 25\n",
      "5 * 6 = 30\n",
      "5 * 7 = 35\n",
      "5 * 8 = 40\n",
      "5 * 9 = 45\n",
      "5 * 10 = 50\n",
      "----------\n",
      "Perkalian 6\n",
      "6 * 1 = 6\n",
      "6 * 2 = 12\n",
      "6 * 3 = 18\n",
      "6 * 4 = 24\n",
      "6 * 5 = 30\n",
      "6 * 6 = 36\n",
      "6 * 7 = 42\n",
      "6 * 8 = 48\n",
      "6 * 9 = 54\n",
      "6 * 10 = 60\n",
      "----------\n",
      "Perkalian 7\n",
      "7 * 1 = 7\n",
      "7 * 2 = 14\n",
      "7 * 3 = 21\n",
      "7 * 4 = 28\n",
      "7 * 5 = 35\n",
      "7 * 6 = 42\n",
      "7 * 7 = 49\n",
      "7 * 8 = 56\n",
      "7 * 9 = 63\n",
      "7 * 10 = 70\n",
      "----------\n",
      "Perkalian 8\n",
      "8 * 1 = 8\n",
      "8 * 2 = 16\n",
      "8 * 3 = 24\n",
      "8 * 4 = 32\n",
      "8 * 5 = 40\n",
      "8 * 6 = 48\n",
      "8 * 7 = 56\n",
      "8 * 8 = 64\n",
      "8 * 9 = 72\n",
      "8 * 10 = 80\n",
      "----------\n",
      "Perkalian 9\n",
      "9 * 1 = 9\n",
      "9 * 2 = 18\n",
      "9 * 3 = 27\n",
      "9 * 4 = 36\n",
      "9 * 5 = 45\n",
      "9 * 6 = 54\n",
      "9 * 7 = 63\n",
      "9 * 8 = 72\n",
      "9 * 9 = 81\n",
      "9 * 10 = 90\n",
      "----------\n",
      "Perkalian 10\n",
      "10 * 1 = 10\n",
      "10 * 2 = 20\n",
      "10 * 3 = 30\n",
      "10 * 4 = 40\n",
      "10 * 5 = 50\n",
      "10 * 6 = 60\n",
      "10 * 7 = 70\n",
      "10 * 8 = 80\n",
      "10 * 9 = 90\n",
      "10 * 10 = 100\n",
      "----------\n"
     ]
    }
   ],
   "source": [
    "i = 1\n",
    "j = 1\n",
    "\n",
    "while i <= 10:\n",
    "    print(f\"Perkalian {i}\")\n",
    "    while j <= 10:\n",
    "        print(f\"{i} * {j} = {i * j}\")\n",
    "        j = j + 1\n",
    "    print(\"-\" * 10)\n",
    "    j = 1\n",
    "    i = i + 1"
   ]
  },
  {
   "cell_type": "markdown",
   "metadata": {},
   "source": [
    "Berikut adalah contoh untuk loop 'For':"
   ]
  },
  {
   "cell_type": "code",
   "execution_count": 29,
   "metadata": {},
   "outputs": [
    {
     "name": "stdout",
     "output_type": "stream",
     "text": [
      "Malang\n",
      "-=--=--=-\n",
      "Banjarmasin\n",
      "-=--=--=-\n",
      "Depok\n",
      "-=--=--=-\n",
      "Tangerang Selatan\n",
      "-=--=--=-\n"
     ]
    }
   ],
   "source": [
    "cities = [\"Malang\", \"Banjarmasin\", \"Depok\", \"Tangerang Selatan\"]\n",
    "\n",
    "for i in cities:\n",
    "    print(i)\n",
    "    print(\"-=-\" * 3)"
   ]
  },
  {
   "cell_type": "code",
   "execution_count": 30,
   "metadata": {},
   "outputs": [
    {
     "data": {
      "text/plain": [
       "[1, 2, 3, 4, 5, 6, 7, 8, 9, 10]"
      ]
     },
     "execution_count": 30,
     "metadata": {},
     "output_type": "execute_result"
    }
   ],
   "source": [
    "list(range(1,11))"
   ]
  },
  {
   "cell_type": "code",
   "execution_count": 32,
   "metadata": {},
   "outputs": [
    {
     "name": "stdout",
     "output_type": "stream",
     "text": [
      "5 * 1 = 5\n",
      "5 * 2 = 10\n",
      "5 * 3 = 15\n",
      "5 * 4 = 20\n",
      "5 * 5 = 25\n",
      "5 * 6 = 30\n",
      "5 * 7 = 35\n",
      "5 * 8 = 40\n",
      "5 * 9 = 45\n",
      "5 * 10 = 50\n"
     ]
    }
   ],
   "source": [
    "for var in range(1, 11):\n",
    "    print(f\"5 * {var} = {5 * var}\")"
   ]
  },
  {
   "cell_type": "code",
   "execution_count": 33,
   "metadata": {},
   "outputs": [
    {
     "name": "stdout",
     "output_type": "stream",
     "text": [
      "1 * 1 = 1\n",
      "1 * 2 = 2\n",
      "1 * 3 = 3\n",
      "1 * 4 = 4\n",
      "1 * 5 = 5\n",
      "1 * 6 = 6\n",
      "1 * 7 = 7\n",
      "1 * 8 = 8\n",
      "1 * 9 = 9\n",
      "1 * 10 = 10\n",
      "-o--o--o-\n",
      "2 * 1 = 2\n",
      "2 * 2 = 4\n",
      "2 * 3 = 6\n",
      "2 * 4 = 8\n",
      "2 * 5 = 10\n",
      "2 * 6 = 12\n",
      "2 * 7 = 14\n",
      "2 * 8 = 16\n",
      "2 * 9 = 18\n",
      "2 * 10 = 20\n",
      "-o--o--o-\n",
      "3 * 1 = 3\n",
      "3 * 2 = 6\n",
      "3 * 3 = 9\n",
      "3 * 4 = 12\n",
      "3 * 5 = 15\n",
      "3 * 6 = 18\n",
      "3 * 7 = 21\n",
      "3 * 8 = 24\n",
      "3 * 9 = 27\n",
      "3 * 10 = 30\n",
      "-o--o--o-\n",
      "4 * 1 = 4\n",
      "4 * 2 = 8\n",
      "4 * 3 = 12\n",
      "4 * 4 = 16\n",
      "4 * 5 = 20\n",
      "4 * 6 = 24\n",
      "4 * 7 = 28\n",
      "4 * 8 = 32\n",
      "4 * 9 = 36\n",
      "4 * 10 = 40\n",
      "-o--o--o-\n",
      "5 * 1 = 5\n",
      "5 * 2 = 10\n",
      "5 * 3 = 15\n",
      "5 * 4 = 20\n",
      "5 * 5 = 25\n",
      "5 * 6 = 30\n",
      "5 * 7 = 35\n",
      "5 * 8 = 40\n",
      "5 * 9 = 45\n",
      "5 * 10 = 50\n",
      "-o--o--o-\n",
      "6 * 1 = 6\n",
      "6 * 2 = 12\n",
      "6 * 3 = 18\n",
      "6 * 4 = 24\n",
      "6 * 5 = 30\n",
      "6 * 6 = 36\n",
      "6 * 7 = 42\n",
      "6 * 8 = 48\n",
      "6 * 9 = 54\n",
      "6 * 10 = 60\n",
      "-o--o--o-\n",
      "7 * 1 = 7\n",
      "7 * 2 = 14\n",
      "7 * 3 = 21\n",
      "7 * 4 = 28\n",
      "7 * 5 = 35\n",
      "7 * 6 = 42\n",
      "7 * 7 = 49\n",
      "7 * 8 = 56\n",
      "7 * 9 = 63\n",
      "7 * 10 = 70\n",
      "-o--o--o-\n",
      "8 * 1 = 8\n",
      "8 * 2 = 16\n",
      "8 * 3 = 24\n",
      "8 * 4 = 32\n",
      "8 * 5 = 40\n",
      "8 * 6 = 48\n",
      "8 * 7 = 56\n",
      "8 * 8 = 64\n",
      "8 * 9 = 72\n",
      "8 * 10 = 80\n",
      "-o--o--o-\n",
      "9 * 1 = 9\n",
      "9 * 2 = 18\n",
      "9 * 3 = 27\n",
      "9 * 4 = 36\n",
      "9 * 5 = 45\n",
      "9 * 6 = 54\n",
      "9 * 7 = 63\n",
      "9 * 8 = 72\n",
      "9 * 9 = 81\n",
      "9 * 10 = 90\n",
      "-o--o--o-\n",
      "10 * 1 = 10\n",
      "10 * 2 = 20\n",
      "10 * 3 = 30\n",
      "10 * 4 = 40\n",
      "10 * 5 = 50\n",
      "10 * 6 = 60\n",
      "10 * 7 = 70\n",
      "10 * 8 = 80\n",
      "10 * 9 = 90\n",
      "10 * 10 = 100\n",
      "-o--o--o-\n"
     ]
    }
   ],
   "source": [
    "for i in range(1, 11):\n",
    "    for j in range(1, 11):\n",
    "        print(f\"{i} * {j} = {i * j}\")\n",
    "    print(\"-o-\" * 3)"
   ]
  },
  {
   "cell_type": "markdown",
   "metadata": {},
   "source": [
    "### Kombinasi kondisional dan looping"
   ]
  },
  {
   "cell_type": "code",
   "execution_count": 42,
   "metadata": {},
   "outputs": [
    {
     "name": "stdout",
     "output_type": "stream",
     "text": [
      "dict_keys(['Rafif', 'Fauzi', 'Ali', 'Danang', 'Jonathan'])\n",
      "dict_values([70, 80, 75, 55, 90])\n",
      "dict_items([('Rafif', 70), ('Fauzi', 80), ('Ali', 75), ('Danang', 55), ('Jonathan', 90)])\n",
      "Nama: Rafif\n",
      "Skor: B\n",
      "Nilai: 70\n",
      "-----\n",
      "Nama: Fauzi\n",
      "Skor: A\n",
      "Nilai: 80\n",
      "-----\n",
      "Nama: Ali\n",
      "Skor: B\n",
      "Nilai: 75\n",
      "-----\n",
      "Nama: Danang\n",
      "Skor: D\n",
      "Nilai: 55\n",
      "-----\n",
      "Nama: Jonathan\n",
      "Skor: A\n",
      "Nilai: 90\n",
      "-----\n"
     ]
    },
    {
     "data": {
      "text/plain": [
       "{}"
      ]
     },
     "execution_count": 42,
     "metadata": {},
     "output_type": "execute_result"
    }
   ],
   "source": [
    "skor = {\"Rafif\" : 70, \"Fauzi\" : 80, \"Ali\" : 75, \"Danang\" : 55, \"Jonathan\" : 90}\n",
    "\n",
    "print(skor.keys())\n",
    "print(skor.values())\n",
    "print(skor.items())\n",
    "\n",
    "grade = {}\n",
    "\n",
    "for nama, skor in skor.items():\n",
    "    print(f\"Nama: {nama}\")\n",
    "\n",
    "    if 0 <= skor <= 100:\n",
    "        if 80 <= skor <= 100:\n",
    "            print(\"Skor: A\")\n",
    "        elif 70 <= skor < 80:\n",
    "            print(\"Skor: B\")\n",
    "        elif 60 <= skor < 70:\n",
    "            print(\"Skor: C\")\n",
    "        elif 40 <= skor < 60:\n",
    "            print(\"Skor: D\")\n",
    "        else:\n",
    "            print(\"Skor: E\")\n",
    "    else:\n",
    "        print(\"Error!\")\n",
    "    \n",
    "    print(f\"Nilai: {skor}\")\n",
    "    print(\"-\" * 5)\n",
    "\n",
    "grade"
   ]
  },
  {
   "cell_type": "code",
   "execution_count": null,
   "metadata": {},
   "outputs": [],
   "source": []
  }
 ],
 "metadata": {
  "kernelspec": {
   "display_name": "Python 3.9.12 ('base')",
   "language": "python",
   "name": "python3"
  },
  "language_info": {
   "codemirror_mode": {
    "name": "ipython",
    "version": 3
   },
   "file_extension": ".py",
   "mimetype": "text/x-python",
   "name": "python",
   "nbconvert_exporter": "python",
   "pygments_lexer": "ipython3",
   "version": "3.9.12"
  },
  "orig_nbformat": 4,
  "vscode": {
   "interpreter": {
    "hash": "d4a4050df37647cce9f897d8be73e70f5f75cc37a70fc5027d2d46479925067e"
   }
  }
 },
 "nbformat": 4,
 "nbformat_minor": 2
}
