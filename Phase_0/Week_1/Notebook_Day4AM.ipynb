{
 "cells": [
  {
   "cell_type": "markdown",
   "metadata": {},
   "source": [
    "# Pandas\n",
    "\n",
    "Pandas merupakan suatu library Python yang digunakan untuk memanipulasi, menganalisa, dan mengolah data dalam bentuk tabular (seperti pada dalam Microsoft Excel). Struktur data dalam Panda diimplementasikan dalam bentuk *Series* (bentuk indeks *array* 1 dimensi) dan *Dataframe* (bentuk indeks *array* dua dimensi)\n",
    "\n",
    "Untuk menginstall library Pandas, bisa menggunakan perintah berikut:\n",
    "\n"
   ]
  },
  {
   "cell_type": "code",
   "execution_count": 1,
   "metadata": {},
   "outputs": [],
   "source": [
    "import numpy as np\n",
    "import pandas as pd"
   ]
  },
  {
   "cell_type": "markdown",
   "metadata": {},
   "source": [
    "## Series"
   ]
  },
  {
   "cell_type": "markdown",
   "metadata": {},
   "source": [
    "Contoh penggunaan library Pandas untuk membentuk Series:"
   ]
  },
  {
   "cell_type": "code",
   "execution_count": 9,
   "metadata": {},
   "outputs": [
    {
     "name": "stdout",
     "output_type": "stream",
     "text": [
      "0    5555\n",
      "1    7000\n",
      "2    1980\n",
      "dtype: int64\n"
     ]
    }
   ],
   "source": [
    "# Langsung didefinisikan\n",
    "\n",
    "revenues = pd.Series([5555, 7000, 1980])\n",
    "print(revenues)"
   ]
  },
  {
   "cell_type": "code",
   "execution_count": 8,
   "metadata": {},
   "outputs": [
    {
     "name": "stdout",
     "output_type": "stream",
     "text": [
      "0    5555\n",
      "1    7000\n",
      "2    1980\n",
      "dtype: int32\n"
     ]
    }
   ],
   "source": [
    "# Didefinisikan dengan simple array\n",
    "\n",
    "data = np.array([5555, 7000, 1980])\n",
    "revenues = pd.Series(data)\n",
    "print(revenues)"
   ]
  },
  {
   "cell_type": "markdown",
   "metadata": {},
   "source": [
    "Perintah .values mengembalikan nilai pada Series, sedangkan .index mengembalikan indeks posisi pada Series"
   ]
  },
  {
   "cell_type": "code",
   "execution_count": 7,
   "metadata": {},
   "outputs": [
    {
     "name": "stdout",
     "output_type": "stream",
     "text": [
      "[5555 7000 1980]\n",
      "RangeIndex(start=0, stop=3, step=1)\n"
     ]
    }
   ],
   "source": [
    "print(revenues.values)\n",
    "print(revenues.index)"
   ]
  },
  {
   "cell_type": "markdown",
   "metadata": {},
   "source": [
    "Secara pengaturan asalnya, pengindeksan data dilakukan dengan menggunakan bilangan integer yang dimulai dari 0, namun indeks ini juga dapat didefinisikan menjadi hal yang lain sehingga dapat terlihat seperti '*dictionary*'."
   ]
  },
  {
   "cell_type": "code",
   "execution_count": 61,
   "metadata": {},
   "outputs": [
    {
     "name": "stdout",
     "output_type": "stream",
     "text": [
      "Amsterdam    4200\n",
      "Toronto      8000\n",
      "Tokyo        6500\n",
      "dtype: int64\n"
     ]
    }
   ],
   "source": [
    "city_revenues = pd.Series([4200, 8000, 6500],\n",
    "                        index = [\"Amsterdam\", \"Toronto\", \"Tokyo\"])\n",
    "print(city_revenues)"
   ]
  },
  {
   "cell_type": "markdown",
   "metadata": {},
   "source": [
    "Series juga dapat dibentuk dengan menggunakan sistem 'dictionary'. Perintah-perintah yang berlaku di dalam 'dictionary' juga dapat dilakukan dalam Series yang dibuat menggunakan sistem 'dictionary'"
   ]
  },
  {
   "cell_type": "code",
   "execution_count": 62,
   "metadata": {},
   "outputs": [
    {
     "name": "stdout",
     "output_type": "stream",
     "text": [
      "Amsterdam    5\n",
      "Tokyo        8\n",
      "dtype: int64\n",
      "Index(['Amsterdam', 'Tokyo'], dtype='object')\n",
      "True\n",
      "False\n"
     ]
    }
   ],
   "source": [
    "city_employee_count = pd.Series({\"Amsterdam\" : 5, \"Tokyo\" : 8})\n",
    "print(city_employee_count)\n",
    "print(city_employee_count.keys())\n",
    "print(\"Amsterdam\" in city_employee_count)\n",
    "print(\"New York\" in city_employee_count)"
   ]
  },
  {
   "cell_type": "markdown",
   "metadata": {},
   "source": [
    "## DataFrame"
   ]
  },
  {
   "cell_type": "markdown",
   "metadata": {},
   "source": [
    "Contoh penggunaan library Pandas untuk membentuk DataFrame:"
   ]
  },
  {
   "cell_type": "code",
   "execution_count": 63,
   "metadata": {},
   "outputs": [
    {
     "name": "stdout",
     "output_type": "stream",
     "text": [
      "           revenue  employee_count\n",
      "Amsterdam     4200             5.0\n",
      "Tokyo         6500             8.0\n",
      "Toronto       8000             NaN\n"
     ]
    }
   ],
   "source": [
    "city_data = pd.DataFrame({\n",
    "    \"revenue\" : city_revenues,\n",
    "    \"employee_count\" : city_employee_count\n",
    "})\n",
    "\n",
    "print(city_data)"
   ]
  },
  {
   "cell_type": "markdown",
   "metadata": {},
   "source": [
    "Perintah .values mengembalikan nilai pada DataFrame, .index mengembalikan indeks posisi pada DataFrame, dan .axes mengembalikan nilai pada sumbu tertentu, di mana .axes[0] akan mengembalikan nilai pada baris dan .axes[1] akan mengembalikan nilai pada kolom."
   ]
  },
  {
   "cell_type": "code",
   "execution_count": 64,
   "metadata": {},
   "outputs": [
    {
     "name": "stdout",
     "output_type": "stream",
     "text": [
      "Indeks DataFrame city_data\n",
      "Index(['Amsterdam', 'Tokyo', 'Toronto'], dtype='object')\n",
      "\n",
      "Nilai DataFrame city_data\n",
      "[[4.2e+03 5.0e+00]\n",
      " [6.5e+03 8.0e+00]\n",
      " [8.0e+03     nan]]\n",
      "\n",
      "Nilai masing-masing sumbu DataFrame city_data\n",
      "[Index(['Amsterdam', 'Tokyo', 'Toronto'], dtype='object'), Index(['revenue', 'employee_count'], dtype='object')]\n",
      "Index(['Amsterdam', 'Tokyo', 'Toronto'], dtype='object')\n",
      "Index(['revenue', 'employee_count'], dtype='object')\n"
     ]
    }
   ],
   "source": [
    "print(\"Indeks DataFrame city_data\")\n",
    "print(city_data.index)\n",
    "print(\"\")\n",
    "print(\"Nilai DataFrame city_data\")\n",
    "print(city_data.values)\n",
    "print(\"\")\n",
    "print(\"Nilai masing-masing sumbu DataFrame city_data\")\n",
    "print(city_data.axes)\n",
    "print(city_data.axes[0])\n",
    "print(city_data.axes[1])"
   ]
  },
  {
   "cell_type": "markdown",
   "metadata": {},
   "source": [
    "Sama seperti pada Series, perintah-perintah yang berlaku dalam '*dictionary*' juga berlaku di dalam DataFrame."
   ]
  },
  {
   "cell_type": "code",
   "execution_count": 65,
   "metadata": {},
   "outputs": [
    {
     "name": "stdout",
     "output_type": "stream",
     "text": [
      "Index(['revenue', 'employee_count'], dtype='object')\n",
      "Penggunaan .keys() pada DataFrame akan mengeluarkan nilai kolomnya\n",
      "\n",
      "Implementasi algoritma dalam keys dalam Data Frame\n",
      "False\n",
      "True\n"
     ]
    }
   ],
   "source": [
    "print(city_data.keys())\n",
    "print(\"Penggunaan .keys() pada DataFrame akan mengeluarkan nilai kolomnya\")\n",
    "print(\"\")\n",
    "print(\"Implementasi algoritma dalam keys dalam Data Frame\")\n",
    "print(\"Amsterdam\" in city_data)\n",
    "print(\"revenue\" in city_data)"
   ]
  },
  {
   "cell_type": "markdown",
   "metadata": {},
   "source": [
    "## Mengakses lokasi di dalam Series"
   ]
  },
  {
   "cell_type": "markdown",
   "metadata": {},
   "source": [
    "Karena Series dan DataFrame sifatnya mirip dengan array 1 dan 2 dimensi, kita dapat memanggil nilainya secara langsung. Selain itu, kita dapat menggunakan perintah berikut untuk memanggil nilai yang diminta:\n",
    "\n",
    "1. .loc (mengakses nilai dengan memanggil variabelnya)\n",
    "2. .iloc (mengakses nilai dengan memanggil posisi variabelnya)\n",
    "\n",
    "Perintah di atas digunakan apabila indeksnya juga berupa angka yang dapat membuat keluaran menjadi ambigu."
   ]
  },
  {
   "cell_type": "code",
   "execution_count": 66,
   "metadata": {},
   "outputs": [
    {
     "name": "stdout",
     "output_type": "stream",
     "text": [
      "8000\n",
      "8000\n",
      "6500\n",
      "Toronto    8000\n",
      "Tokyo      6500\n",
      "dtype: int64\n",
      "Toronto    8000\n",
      "Tokyo      6500\n",
      "dtype: int64\n"
     ]
    }
   ],
   "source": [
    "# Metode konvensional\n",
    "\n",
    "print(city_revenues[\"Toronto\"])\n",
    "print(city_revenues[1])\n",
    "print(city_revenues[-1])\n",
    "print(city_revenues[1 :])\n",
    "print(city_revenues[\"Toronto\" :])"
   ]
  },
  {
   "cell_type": "code",
   "execution_count": 67,
   "metadata": {},
   "outputs": [
    {
     "name": "stdout",
     "output_type": "stream",
     "text": [
      "Series Colors\n",
      "1       red\n",
      "2    purple\n",
      "3      blue\n",
      "5     green\n",
      "8    yellow\n",
      "dtype: object\n",
      "\n",
      "Penggunaan .loc digunakan agar data yang diambil tidak rancu karena data diambil dari indeks label\n",
      "Output dari .loc[1]: red\n",
      "\n",
      "Penggunaan .loc digunakan agar data yang diambil tidak rancu karena data diambil dari indeks posisi\n",
      "Output dari .iloc[1]: purple\n"
     ]
    }
   ],
   "source": [
    "# Metode .loc dan .iloc\n",
    "\n",
    "colors = pd.Series(\n",
    "    [\"red\", \"purple\", \"blue\", \"green\", \"yellow\"],\n",
    "    index = [1, 2, 3, 5, 8]\n",
    "    )\n",
    "print(\"Series Colors\")\n",
    "print(colors)\n",
    "print(\"\")\n",
    "print(\"Penggunaan .loc digunakan agar data yang diambil tidak rancu karena data diambil dari indeks label\")\n",
    "print(f\"Output dari .loc[1]: {colors.loc[1]}\")\n",
    "print(\"\")\n",
    "print(\"Penggunaan .loc digunakan agar data yang diambil tidak rancu karena data diambil dari indeks posisi\")\n",
    "print(f\"Output dari .iloc[1]: {colors.iloc[1]}\")"
   ]
  },
  {
   "cell_type": "markdown",
   "metadata": {},
   "source": [
    "Perintah tersebut juga dapat digunakan untuk mengambil data tertentu seperti pada saat melakukan *slicing*."
   ]
  },
  {
   "cell_type": "code",
   "execution_count": 68,
   "metadata": {},
   "outputs": [
    {
     "name": "stdout",
     "output_type": "stream",
     "text": [
      "Keluaran dari .loc[3:8] :\n",
      "3      blue\n",
      "5     green\n",
      "8    yellow\n",
      "dtype: object\n",
      "Keluaran dari .iloc[1:3] :\n",
      "2    purple\n",
      "3      blue\n",
      "dtype: object\n"
     ]
    }
   ],
   "source": [
    "# Mengeluarkan nilai dari indeks eksplisit\n",
    "\n",
    "print(\"Keluaran dari .loc[3:8] :\")\n",
    "print(colors.loc[3:8])\n",
    "\n",
    "# Mengeluarkan nilai dari indeks implisit\n",
    "\n",
    "print(\"Keluaran dari .iloc[1:3] :\")\n",
    "print(colors.iloc[1:3])"
   ]
  },
  {
   "cell_type": "markdown",
   "metadata": {},
   "source": [
    "## Mengakses lokasi di dalam DataFrame"
   ]
  },
  {
   "cell_type": "markdown",
   "metadata": {},
   "source": [
    "Akses lokasi pada DataFrame kurang lebih mirip seperti pada Series, hanya saja operator indeksnya akan berlaku pada kolom dan perintah .loc dan .iloc akan berlaku pada baris."
   ]
  },
  {
   "cell_type": "code",
   "execution_count": 69,
   "metadata": {},
   "outputs": [
    {
     "name": "stdout",
     "output_type": "stream",
     "text": [
      "Amsterdam    4200\n",
      "Tokyo        6500\n",
      "Toronto      8000\n",
      "Name: revenue, dtype: int64\n",
      "Amsterdam    4200\n",
      "Tokyo        6500\n",
      "Toronto      8000\n",
      "Name: revenue, dtype: int64\n"
     ]
    }
   ],
   "source": [
    "# Metode langsung\n",
    "\n",
    "print(city_data[\"revenue\"])\n",
    "print(city_data.revenue) #untuk data string dapat dilakukan dengan menggunakan .\"nama variabel\""
   ]
  },
  {
   "cell_type": "code",
   "execution_count": 70,
   "metadata": {},
   "outputs": [
    {
     "name": "stdout",
     "output_type": "stream",
     "text": [
      "Output perintah .loc spesifik satu baris\n",
      "revenue           4200.0\n",
      "employee_count       5.0\n",
      "Name: Amsterdam, dtype: float64\n",
      "\n",
      "Output perintah .loc spesifik banyak baris\n",
      "         revenue  employee_count\n",
      "Tokyo       6500             8.0\n",
      "Toronto     8000             NaN\n",
      "\n",
      "Output perintah .iloc spesifik satu baris\n",
      "revenue           6500.0\n",
      "employee_count       8.0\n",
      "Name: Tokyo, dtype: float64\n",
      "\n",
      "Perintah .loc dan .iloc pada DataFrame dapat menerima variabel kedua untuk memilih kolom yang akan ditampilkan.\n",
      "Amsterdam    4200\n",
      "Name: revenue, dtype: int64\n",
      "\n",
      "Isi data dapat dijumlahkan, dicari nilai maksimal, nilai minimum, dan nilai rata-ratanya\n",
      "Jumlah : 18700\n",
      "Min : 4200\n",
      "Max : 8000\n",
      "Mean : 6233.333333333333\n",
      "\n"
     ]
    }
   ],
   "source": [
    "print(\"Output perintah .loc spesifik satu baris\")\n",
    "print(city_data.loc[\"Amsterdam\"])\n",
    "print(\"\")\n",
    "\n",
    "print(\"Output perintah .loc spesifik banyak baris\")\n",
    "print(city_data.loc[\"California\" : \"Toronto\"])\n",
    "print(\"\")\n",
    "\n",
    "print(\"Output perintah .iloc spesifik satu baris\")\n",
    "print(city_data.iloc[1])\n",
    "print(\"\")\n",
    "\n",
    "print(\"Perintah .loc dan .iloc pada DataFrame dapat menerima variabel kedua untuk memilih kolom yang akan ditampilkan.\")\n",
    "print(city_data.loc[\"Amsterdam\" : \"California\", \"revenue\"])\n",
    "print(\"\")\n",
    "\n",
    "print(\"Isi data dapat dijumlahkan, dicari nilai maksimal, nilai minimum, dan nilai rata-ratanya\")\n",
    "print(f\"Jumlah : {city_revenues.sum()}\")\n",
    "print(f\"Min : {city_revenues.min()}\")\n",
    "print(f\"Max : {city_revenues.max()}\")\n",
    "print(f\"Mean : {city_revenues.mean()}\")\n",
    "print(\"\")"
   ]
  },
  {
   "cell_type": "markdown",
   "metadata": {},
   "source": [
    "## Menyaring data pada DataFrame menggunakan numpy"
   ]
  },
  {
   "cell_type": "code",
   "execution_count": 43,
   "metadata": {},
   "outputs": [
    {
     "name": "stdout",
     "output_type": "stream",
     "text": [
      "DataFrame...\n",
      "       Product  Opening_Stock  Closing_Stock\n",
      "0     SmartTV            300            200\n",
      "1  ChromeCast            700            500\n",
      "2     Speaker           1200           1000\n",
      "3    Earphone           1500            900\n",
      "\n",
      "Filtered DataFrame Value = \n",
      "       Product  Opening_Stock  Closing_Stock\n",
      "1  ChromeCast            700            500\n",
      "3    Earphone           1500            900\n",
      "\n",
      "Filtered DataFrame Value = \n",
      "       Product  Opening_Stock  Closing_Stock\n",
      "1  ChromeCast            700            500\n"
     ]
    }
   ],
   "source": [
    "dataFrame = pd.DataFrame({\"Product\": [\"SmartTV\", \"ChromeCast\", \"Speaker\", \"Earphone\"],\n",
    "                          \"Opening_Stock\": [300, 700, 1200, 1500],\n",
    "                          \"Closing_Stock\": [200, 500, 1000, 900]})\n",
    "\n",
    "print(\"DataFrame...\\n\",dataFrame)\n",
    "\n",
    "# using numpy where() to filter DataFrame with 2 Conditions\n",
    "resValues1 = np.where((dataFrame['Opening_Stock']>=700) & (dataFrame['Closing_Stock']< 1000))\n",
    "\n",
    "print(\"\\nFiltered DataFrame Value = \\n\",dataFrame.loc[resValues1])\n",
    "\n",
    "# using numpy where() to filter DataFrame with 3 conditions\n",
    "resValues2 = np.where((dataFrame['Opening_Stock']>=500) & (dataFrame['Closing_Stock']< 1000) & (dataFrame['Product'].str.startswith('C')))\n",
    "\n",
    "print(\"\\nFiltered DataFrame Value = \\n\",dataFrame.loc[resValues2])"
   ]
  },
  {
   "cell_type": "markdown",
   "metadata": {},
   "source": [
    "## Menggabungkan DataFrame\n",
    "\n",
    "Di bagian sebelumnya kita sudah mengetahui bagaimana caranya menggabungkan dua buah Series menjadi sebuah DataFrame. DataFrame pun dapat digabungkan dengan DataFrame baru."
   ]
  },
  {
   "cell_type": "code",
   "execution_count": 71,
   "metadata": {},
   "outputs": [
    {
     "name": "stdout",
     "output_type": "stream",
     "text": [
      "DataFrame tambahan:\n",
      "           revenue  employee_count\n",
      "New York      7000               2\n",
      "Barcelona     3400               2\n",
      "\n",
      "DataFrame lama:\n",
      "           revenue  employee_count\n",
      "Amsterdam     4200             5.0\n",
      "Tokyo         6500             8.0\n",
      "Toronto       8000             NaN\n",
      "\n",
      "DataFrame gabungan:\n",
      "           revenue  employee_count\n",
      "Amsterdam     4200             5.0\n",
      "Tokyo         6500             8.0\n",
      "Toronto       8000             NaN\n",
      "New York      7000             2.0\n",
      "Barcelona     3400             2.0\n"
     ]
    }
   ],
   "source": [
    "further_city_data = pd.DataFrame(\n",
    "    {\"revenue\": [7000, 3400], \"employee_count\": [2, 2]},\n",
    "    index = [\"New York\", \"Barcelona\"]\n",
    ")\n",
    "\n",
    "print(\"DataFrame tambahan:\")\n",
    "print(further_city_data)\n",
    "print(\"\")\n",
    "print(\"DataFrame lama:\")\n",
    "print(city_data)\n",
    "print(\"\")\n",
    "\n",
    "all_city_data = pd.concat([city_data, further_city_data], sort = False)\n",
    "print(\"DataFrame gabungan:\")\n",
    "print(all_city_data)"
   ]
  },
  {
   "cell_type": "code",
   "execution_count": 72,
   "metadata": {},
   "outputs": [
    {
     "name": "stdout",
     "output_type": "stream",
     "text": [
      "Negara dan Ibukota:\n",
      "           country  capital\n",
      "Amsterdam  Holland        1\n",
      "Tokyo        Japan        1\n",
      "Rotterdam  Holland        0\n",
      "Toronto     Canada        0\n",
      "Barcelona    Spain        0\n",
      "\n",
      "Gabungan dari dua tabel:\n",
      "           revenue  employee_count  country  capital\n",
      "Amsterdam   4200.0             5.0  Holland      1.0\n",
      "Tokyo       6500.0             8.0    Japan      1.0\n",
      "Toronto     8000.0             NaN   Canada      0.0\n",
      "New York    7000.0             2.0      NaN      NaN\n",
      "Barcelona   3400.0             2.0    Spain      0.0\n",
      "Rotterdam      NaN             NaN  Holland      0.0\n",
      "\n",
      "Gabungan dari yang datanya muncul di dua tabel:\n",
      "           revenue  employee_count  country  capital\n",
      "Amsterdam     4200             5.0  Holland        1\n",
      "Tokyo         6500             8.0    Japan        1\n",
      "Toronto       8000             NaN   Canada        0\n",
      "Barcelona     3400             2.0    Spain        0\n"
     ]
    }
   ],
   "source": [
    "city_countries = pd.DataFrame({\n",
    "    \"country\": [\"Holland\", \"Japan\", \"Holland\", \"Canada\", \"Spain\"],\n",
    "    \"capital\": [1, 1, 0, 0, 0]},\n",
    "    index = [\"Amsterdam\", \"Tokyo\", \"Rotterdam\", \"Toronto\", \"Barcelona\"]\n",
    ")\n",
    "\n",
    "print(\"Negara dan Ibukota:\")\n",
    "print(city_countries)\n",
    "print(\"\")\n",
    "\n",
    "# Gabungan all dan countries:\n",
    "\n",
    "cities = pd.concat([all_city_data, city_countries], axis = 1, sort = False)\n",
    "print(\"Gabungan dari dua tabel:\")\n",
    "print(cities)\n",
    "print(\"\")\n",
    "print(\"Gabungan dari yang datanya muncul di dua tabel:\")\n",
    "print(pd.concat([all_city_data, city_countries], axis = 1, sort = False, join = \"inner\"))"
   ]
  },
  {
   "cell_type": "code",
   "execution_count": 74,
   "metadata": {},
   "outputs": [
    {
     "name": "stdout",
     "output_type": "stream",
     "text": [
      "Tabel 'countries' :\n",
      "         population_millions continent\n",
      "Holland                   17    Europe\n",
      "Japan                    127      Asia\n",
      "Canada                    37        NA\n",
      "\n",
      "Gabungan dari dua tabel di atas :\n",
      "           revenue  employee_count  country  capital  population_millions  \\\n",
      "Amsterdam   4200.0             5.0  Holland      1.0                   17   \n",
      "Rotterdam      NaN             NaN  Holland      0.0                   17   \n",
      "Tokyo       6500.0             8.0    Japan      1.0                  127   \n",
      "Toronto     8000.0             NaN   Canada      0.0                   37   \n",
      "\n",
      "          continent  \n",
      "Amsterdam    Europe  \n",
      "Rotterdam    Europe  \n",
      "Tokyo          Asia  \n",
      "Toronto          NA  \n",
      "\n",
      "Gabungan dari dua tabel di atas dengan menampilkan semua data :\n",
      "           revenue  employee_count  country  capital  population_millions  \\\n",
      "Amsterdam   4200.0             5.0  Holland      1.0                 17.0   \n",
      "Tokyo       6500.0             8.0    Japan      1.0                127.0   \n",
      "Toronto     8000.0             NaN   Canada      0.0                 37.0   \n",
      "New York    7000.0             2.0      NaN      NaN                  NaN   \n",
      "Barcelona   3400.0             2.0    Spain      0.0                  NaN   \n",
      "Rotterdam      NaN             NaN  Holland      0.0                 17.0   \n",
      "\n",
      "          continent  \n",
      "Amsterdam    Europe  \n",
      "Tokyo          Asia  \n",
      "Toronto          NA  \n",
      "New York        NaN  \n",
      "Barcelona       NaN  \n",
      "Rotterdam    Europe  \n"
     ]
    }
   ],
   "source": [
    "countries = pd.DataFrame({\n",
    "    \"population_millions\" : [17, 127, 37],\n",
    "    \"continent\" : [\"Europe\", \"Asia\", \"NA\"]},\n",
    "    index = [\"Holland\", \"Japan\", \"Canada\"])\n",
    "print(\"Tabel 'countries' :\")\n",
    "print(countries)\n",
    "print(\"\")\n",
    "\n",
    "# Gabungkan dengan tabel cities di bagian sebelumnya:\n",
    "# Parameter left_on digunakan sebagai penanda dari kolom mana tabel yang ingin digabungkan\n",
    "# Bisa diganti dengan .merge() apabila semua komponen tabelnya ingin digabungkan\n",
    "\n",
    "pd.merge(cities, countries, left_on = \"country\", right_index = True)\n",
    "print(\"Gabungan dari dua tabel di atas :\")\n",
    "print(pd.merge(cities, countries, left_on = \"country\", right_index = True))\n",
    "print(\"\")\n",
    "\n",
    "# Parameter how digunakan untuk menampilkan semua data yang ada\n",
    "\n",
    "pd.merge(cities, countries, left_on = \"country\", right_index = True, how = \"left\")\n",
    "print(\"Gabungan dari dua tabel di atas dengan menampilkan semua data :\")\n",
    "print(pd.merge(cities, countries, left_on = \"country\", right_index = True, how = \"left\"))"
   ]
  }
 ],
 "metadata": {
  "kernelspec": {
   "display_name": "Python 3.9.12 ('base')",
   "language": "python",
   "name": "python3"
  },
  "language_info": {
   "codemirror_mode": {
    "name": "ipython",
    "version": 3
   },
   "file_extension": ".py",
   "mimetype": "text/x-python",
   "name": "python",
   "nbconvert_exporter": "python",
   "pygments_lexer": "ipython3",
   "version": "3.9.12"
  },
  "orig_nbformat": 4,
  "vscode": {
   "interpreter": {
    "hash": "d4a4050df37647cce9f897d8be73e70f5f75cc37a70fc5027d2d46479925067e"
   }
  }
 },
 "nbformat": 4,
 "nbformat_minor": 2
}
