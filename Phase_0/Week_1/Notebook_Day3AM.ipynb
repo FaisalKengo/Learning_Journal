{
 "cells": [
  {
   "cell_type": "markdown",
   "metadata": {},
   "source": [
    "# Functions, Modules, & Packages"
   ]
  },
  {
   "cell_type": "markdown",
   "metadata": {},
   "source": [
    "## Function\n",
    "\n",
    "Untuk pembuatan *function*, harus dimulai dengan perintah 'def' dan memasukkan nama fungsi yang akan dibuat secara spesifik"
   ]
  },
  {
   "cell_type": "code",
   "execution_count": 1,
   "metadata": {},
   "outputs": [],
   "source": [
    "def exemplar_function(var_1, var_2):\n",
    "    \"Fungsi yang dibuat sebagai contoh fungsi (ini adalah docstring)\"\n",
    "    #letakkan argumen algoritma di sini\n",
    "    print(\"Keluaran hasil argumen di sini\")\n",
    "    return"
   ]
  },
  {
   "cell_type": "code",
   "execution_count": 6,
   "metadata": {},
   "outputs": [
    {
     "name": "stdout",
     "output_type": "stream",
     "text": [
      "Nama saya Faisal Kengo\n",
      "Nama saya Faisal Kengo\n",
      "Nama saya Faisal Kengo\n",
      "Nama saya Faisal Kengo\n"
     ]
    }
   ],
   "source": [
    "def cth_cetaknama(nama_depan, nama_belakang):\n",
    "    print(f\"Nama saya {nama_depan} {nama_belakang}\")\n",
    "    return\n",
    "\n",
    "cth_cetaknama(\"Faisal\", \"Kengo\") #cara pertama untuk memasukkan variabel secara langsung\n",
    "cth_cetaknama(nama_depan = \"Faisal\", nama_belakang = \"Kengo\") #cara kedua untuk memasukkan variabel secara langsung\n",
    "\n",
    "a = \"Faisal\"\n",
    "b = \"Kengo\"\n",
    "\n",
    "cth_cetaknama(a, b) #cara pertama untuk memasukkan variabel secara tidak langsung\n",
    "cth_cetaknama(nama_depan = a, nama_belakang = b) #cara kedua untuk memasukkan variabel secara tidak langsung"
   ]
  },
  {
   "cell_type": "markdown",
   "metadata": {},
   "source": [
    "Di dalam fungsi juga dapat dimasukkan argumen matematika, loop, dan dapat dijadikan sebagai nilai dari suatu variabel"
   ]
  },
  {
   "cell_type": "code",
   "execution_count": 7,
   "metadata": {},
   "outputs": [
    {
     "name": "stdout",
     "output_type": "stream",
     "text": [
      "3\n",
      "7\n"
     ]
    },
    {
     "data": {
      "text/plain": [
       "int"
      ]
     },
     "execution_count": 7,
     "metadata": {},
     "output_type": "execute_result"
    }
   ],
   "source": [
    "def tambah (x, y):\n",
    "    z = x + y\n",
    "    print(z)\n",
    "    return z\n",
    "\n",
    "tambah(1,2)\n",
    "p = tambah(3,4)\n",
    "type(p)\n"
   ]
  },
  {
   "cell_type": "code",
   "execution_count": 18,
   "metadata": {},
   "outputs": [
    {
     "name": "stdout",
     "output_type": "stream",
     "text": [
      "[10, 20, 'abc']\n",
      "[20, 1, 2, 'xyz']\n"
     ]
    }
   ],
   "source": [
    "list_saya = [10, 20, \"abc\"] #variabel global\n",
    "\n",
    "def rubah_list(listchange):\n",
    "    list_saya = listchange + [1, 2, \"xyz\"] #variabel lokal\n",
    "    return list_saya\n",
    "\n",
    "rubah_list([20])\n",
    "print(list_saya) #variabel global tidak akan terpengaruh pada perilaku dari variabel lokal\n",
    "list_saya = rubah_list([20]) #variabel lokal diubah menjadi variabel global\n",
    "print(list_saya) #yang muncul di sini nantinya adalah variabel lokal yang sudah diubah menjadi variabel global"
   ]
  },
  {
   "cell_type": "code",
   "execution_count": 19,
   "metadata": {},
   "outputs": [
    {
     "name": "stdout",
     "output_type": "stream",
     "text": [
      "Hasil penjumlahan = 10\n",
      "Hasil pengurangan = 6\n",
      "Hasil perkalian = 16\n",
      "Hasil pembagian = 4.0\n"
     ]
    },
    {
     "data": {
      "text/plain": [
       "(10, 6, 16, 4.0)"
      ]
     },
     "execution_count": 19,
     "metadata": {},
     "output_type": "execute_result"
    }
   ],
   "source": [
    "def aritmatika(x,y):\n",
    "    a = x + y\n",
    "    b = x - y\n",
    "    c = x * y\n",
    "    d = x / y\n",
    "    print(f\"Hasil penjumlahan = {a}\")\n",
    "    print(f\"Hasil pengurangan = {b}\")\n",
    "    print(f\"Hasil perkalian = {c}\")\n",
    "    print(f\"Hasil pembagian = {d}\")\n",
    "    return a, b, c, d\n",
    "\n",
    "aritmatika(8,2)"
   ]
  },
  {
   "cell_type": "code",
   "execution_count": 20,
   "metadata": {},
   "outputs": [
    {
     "name": "stdout",
     "output_type": "stream",
     "text": [
      "23 adalah angka ganjil\n"
     ]
    }
   ],
   "source": [
    "def odd_det(num):\n",
    "    if num % 2 == 0:\n",
    "        print(f\"{num} merupakan bilangan genap\")\n",
    "    else:\n",
    "        print(f\"{num} adalah angka ganjil\")\n",
    "    return\n",
    "\n",
    "odd_det(23)"
   ]
  },
  {
   "cell_type": "code",
   "execution_count": 8,
   "metadata": {},
   "outputs": [
    {
     "name": "stdout",
     "output_type": "stream",
     "text": [
      "False\n",
      "True\n"
     ]
    }
   ],
   "source": [
    "def deteksi_kata(str):\n",
    "    kata = \"hacktiv8\" in str.lower()\n",
    "    return kata\n",
    "\n",
    "print(deteksi_kata(\"halo\"))\n",
    "print(deteksi_kata(\"HACKTIV8\"))"
   ]
  },
  {
   "cell_type": "code",
   "execution_count": 10,
   "metadata": {},
   "outputs": [
    {
     "data": {
      "text/plain": [
       "55"
      ]
     },
     "execution_count": 10,
     "metadata": {},
     "output_type": "execute_result"
    }
   ],
   "source": [
    "def tambah(*var):\n",
    "    return sum(var)\n",
    "\n",
    "tambah(1,2,3,4,5,6,7,8,9,10)\n"
   ]
  },
  {
   "cell_type": "code",
   "execution_count": 11,
   "metadata": {},
   "outputs": [
    {
     "name": "stdout",
     "output_type": "stream",
     "text": [
      "Pendaftaran Alien1\n",
      "Tujuan keberangkatan Planet Mars\n",
      "Pendaftaran Alien2\n",
      "Tujuan keberangkatan Planet Venus\n"
     ]
    }
   ],
   "source": [
    "def pendaftaran(**kwargs):\n",
    "    for key, value in kwargs.items():\n",
    "        print(f\"Pendaftaran {key}\")\n",
    "        print(f\"Tujuan keberangkatan {value}\")\n",
    "    return\n",
    "\n",
    "pendaftaran(Alien1 = \"Planet Mars\", Alien2 = \"Planet Venus\")"
   ]
  },
  {
   "cell_type": "code",
   "execution_count": null,
   "metadata": {},
   "outputs": [],
   "source": []
  }
 ],
 "metadata": {
  "kernelspec": {
   "display_name": "Python 3.9.12 ('base')",
   "language": "python",
   "name": "python3"
  },
  "language_info": {
   "codemirror_mode": {
    "name": "ipython",
    "version": 3
   },
   "file_extension": ".py",
   "mimetype": "text/x-python",
   "name": "python",
   "nbconvert_exporter": "python",
   "pygments_lexer": "ipython3",
   "version": "3.9.12"
  },
  "orig_nbformat": 4,
  "vscode": {
   "interpreter": {
    "hash": "d4a4050df37647cce9f897d8be73e70f5f75cc37a70fc5027d2d46479925067e"
   }
  }
 },
 "nbformat": 4,
 "nbformat_minor": 2
}
