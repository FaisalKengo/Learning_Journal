{
 "cells": [
  {
   "cell_type": "markdown",
   "metadata": {},
   "source": [
    "# Probabilitas dan Distribusi"
   ]
  },
  {
   "cell_type": "markdown",
   "metadata": {},
   "source": [
    "## Probabilitas"
   ]
  },
  {
   "cell_type": "markdown",
   "metadata": {},
   "source": [
    "Probabilitas merupakan sebuah nilai diantara 0 dan 1 yang mengindikasikan kecenderungan terjadinya suatu kejadian.\n",
    "\n",
    "$$P(A) = \\frac{n(A)}{n}$$\n",
    "\n",
    "Komplemen merupakan sebuah nilai yang mengindikasikan kecenderungan tidak terjadinya suatu kejadian tertentu.\n",
    "\n",
    "$$P'(A) = 1 = P(A)$$\n",
    "\n",
    "Bias merupakan sesuatu yang dapat memengaruhi probabilitas terjadinya suatu kejadian agar dapat cenderung lebih sering terjadi.\n",
    "\n",
    "*Compound* merupakan kombinasi dari probabilitas dua buah kejadian. *Compound* dapat dibagi lagi menjadi 4 kategori, yaitu:\n",
    "\n",
    "1. *Compound Independent Event*\n",
    "\n",
    "$P(A \\cap B) = P(A) \\times P(B)$\n",
    "\n",
    "2. *Compound Dependent Event*\n",
    "\n",
    "$P(A \\cap B) = P(A) \\times \\frac{P(A \\cap B)}{P(B)}$\n",
    "\n",
    "3. *Compound Mutually Exclusive Event*\n",
    "\n",
    "$P(A \\cup B) = P(A) + P(B)$\n",
    "\n",
    "1. *Compound Mutually Inclusive Event*\n",
    "\n",
    "$P(A \\cup B) = P(A) + P(B) - P(A \\cap B)$"
   ]
  },
  {
   "cell_type": "code",
   "execution_count": null,
   "metadata": {},
   "outputs": [],
   "source": []
  }
 ],
 "metadata": {
  "kernelspec": {
   "display_name": "Python 3.9.12 ('base')",
   "language": "python",
   "name": "python3"
  },
  "language_info": {
   "name": "python",
   "version": "3.9.12"
  },
  "orig_nbformat": 4,
  "vscode": {
   "interpreter": {
    "hash": "d4a4050df37647cce9f897d8be73e70f5f75cc37a70fc5027d2d46479925067e"
   }
  }
 },
 "nbformat": 4,
 "nbformat_minor": 2
}
