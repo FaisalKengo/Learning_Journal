{
 "cells": [
  {
   "cell_type": "markdown",
   "metadata": {},
   "source": [
    "- Carilah integral dari sebuah fungsi:\n",
    "  - $\\int \\! (3x^{2}-6x+3) \\, \\mathrm{d}x.$\n",
    "  - $\\int \\! (8x^{3}-x^{2}+5x-1) \\, \\mathrm{d}x.$"
   ]
  },
  {
   "cell_type": "markdown",
   "metadata": {},
   "source": [
    "# Jawaban:"
   ]
  },
  {
   "cell_type": "markdown",
   "metadata": {},
   "source": [
    "## Secara analisa:"
   ]
  },
  {
   "cell_type": "markdown",
   "metadata": {},
   "source": [
    "- $f(x) = \\int \\! (3x^{2}-6x+3) \\, \\mathrm{d}x.$\n",
    "\n",
    "    $F(x) = \\int \\! (3x^{2}) \\, \\mathrm{d}x - \\int \\! (6x) \\, \\mathrm{d}x + \\int \\! (3) \\, \\mathrm{d}x$\n",
    "\n",
    "    $F(x) = (\\frac{1}{1 + 2} (3x^{2 + 1})) - (\\frac{1}{1 + 1} (6x^{1 + 1})) + (\\frac{1}{1 + 0} (3x^{0 + 1})) + C$\n",
    "\n",
    "    $F(x) = (\\frac{1}{3} (3x^{3})) - (\\frac{1}{2} (6x^{2})) + (3x) + C$\n",
    "\n",
    "    $F(x) = x^{3} - 3x^{2} + 3x + C$\n",
    "\n",
    "- $\\int \\! (8x^{3}-x^{2}+5x-1) \\, \\mathrm{d}x.$\n",
    "\n",
    "    $F(x) = \\int \\! (8x^{3}) \\, \\mathrm{d}x - \\int \\! (x^{2}) \\, \\mathrm{d}x + \\int \\! (5x) \\, \\mathrm{d}x - \\int \\! (1) \\, \\mathrm{d}x$\n",
    "\n",
    "    $F(x) = (\\frac{1}{1 + 3} (8x^{3 + 1})) - (\\frac{1}{1 + 2} (x^{2 + 1})) + (\\frac{1}{1 + 1} (5x^{1 + 1})) - (\\frac{1}{1 + 0} (x^{0 + 1})) + C$\n",
    "\n",
    "    $F(x) = (\\frac{1}{4} (8x^{4})) - (\\frac{1}{3} (x^{3})) + (\\frac{1}{2} (5x^{2})) - (x) + C$\n",
    "\n",
    "    $F(x) = 2x^{4} - \\frac{1}{3} x^{3} + \\frac{5}{3} x^{2} - x + C$"
   ]
  },
  {
   "cell_type": "markdown",
   "metadata": {},
   "source": [
    "## Secara program:"
   ]
  },
  {
   "cell_type": "code",
   "execution_count": 1,
   "metadata": {},
   "outputs": [],
   "source": [
    "import sympy as sy"
   ]
  },
  {
   "cell_type": "markdown",
   "metadata": {},
   "source": [
    "- $\\int \\! (3x^{2}-6x+3) \\, \\mathrm{d}x.$"
   ]
  },
  {
   "cell_type": "code",
   "execution_count": 3,
   "metadata": {},
   "outputs": [
    {
     "data": {
      "text/latex": [
       "$\\displaystyle x^{3} - 3 x^{2} + 3 x$"
      ],
      "text/plain": [
       "x**3 - 3*x**2 + 3*x"
      ]
     },
     "execution_count": 3,
     "metadata": {},
     "output_type": "execute_result"
    }
   ],
   "source": [
    "x = sy.Symbol(\"x\")\n",
    "f = 3 * x ** 2 - 6 * x + 3\n",
    "\n",
    "F = sy.integrate(f)\n",
    "F"
   ]
  },
  {
   "cell_type": "markdown",
   "metadata": {},
   "source": [
    "- $\\int \\! (8x^{3}-x^{2}+5x-1) \\, \\mathrm{d}x.$"
   ]
  },
  {
   "cell_type": "code",
   "execution_count": 4,
   "metadata": {},
   "outputs": [
    {
     "data": {
      "text/latex": [
       "$\\displaystyle 2 x^{4} - \\frac{x^{3}}{3} + \\frac{5 x^{2}}{2} - x$"
      ],
      "text/plain": [
       "2*x**4 - x**3/3 + 5*x**2/2 - x"
      ]
     },
     "execution_count": 4,
     "metadata": {},
     "output_type": "execute_result"
    }
   ],
   "source": [
    "x = sy.Symbol(\"x\")\n",
    "f = 8 * x ** 3 - x ** 2 + 5 * x - 1\n",
    "\n",
    "F = sy.integrate(f)\n",
    "F"
   ]
  }
 ],
 "metadata": {
  "kernelspec": {
   "display_name": "Python 3.9.12 ('base')",
   "language": "python",
   "name": "python3"
  },
  "language_info": {
   "codemirror_mode": {
    "name": "ipython",
    "version": 3
   },
   "file_extension": ".py",
   "mimetype": "text/x-python",
   "name": "python",
   "nbconvert_exporter": "python",
   "pygments_lexer": "ipython3",
   "version": "3.9.12"
  },
  "orig_nbformat": 4,
  "vscode": {
   "interpreter": {
    "hash": "d4a4050df37647cce9f897d8be73e70f5f75cc37a70fc5027d2d46479925067e"
   }
  }
 },
 "nbformat": 4,
 "nbformat_minor": 2
}
