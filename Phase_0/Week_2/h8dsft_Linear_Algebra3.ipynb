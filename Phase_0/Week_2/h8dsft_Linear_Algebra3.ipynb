{
 "cells": [
  {
   "cell_type": "markdown",
   "metadata": {},
   "source": [
    "Apakah $\\begin{bmatrix}1 \\\\3\\end{bmatrix}$ adalah eigenvector dari $\\begin{bmatrix}1 & -1\\\\6 &-4 \\end{bmatrix}$? Jika iya, berapakah eigenvalue-nya?\n"
   ]
  },
  {
   "cell_type": "markdown",
   "metadata": {},
   "source": [
    "# Jawaban"
   ]
  },
  {
   "cell_type": "markdown",
   "metadata": {},
   "source": [
    "## Analisa manual:"
   ]
  },
  {
   "cell_type": "markdown",
   "metadata": {},
   "source": [
    "### Mencari eigenvalue"
   ]
  },
  {
   "cell_type": "markdown",
   "metadata": {},
   "source": [
    "$A = \\begin{bmatrix} 1 & -1 \\\\ 6 & -4 \\end{bmatrix}$\n",
    "\n",
    "$det(A - \\lambda I) = 0$\n",
    "\n",
    "$det(\\begin{bmatrix} 1 & -1 \\\\ 6 & -4 \\end{bmatrix} - \\begin{bmatrix}\\lambda & 0 \\\\ 0 & \\lambda \\end{bmatrix}) = 0$\n",
    "\n",
    "$det(\\begin{bmatrix} 1 - \\lambda & -1 \\\\ 6 & -4 - \\lambda \\end{bmatrix}) = 0$\n",
    "\n",
    "$(1 - \\lambda)(-4 - \\lambda) - (-1)(6) = 0$\n",
    "\n",
    "$(-4 + 3 \\lambda + \\lambda^{2}) - (-6) = 0$\n",
    "\n",
    "$\\lambda^{2} + 3 \\lambda + 2 = 0$\n",
    "\n",
    "$(\\lambda + 1)(\\lambda + 2) = 0$\n",
    "\n",
    "Eigenvalue untuk matriks A adalah $\\lambda = -1$ dan $\\lambda = -2$"
   ]
  },
  {
   "cell_type": "markdown",
   "metadata": {},
   "source": [
    "### Mencari eigenvector untuk masing-masing eigenvalue"
   ]
  },
  {
   "cell_type": "markdown",
   "metadata": {},
   "source": [
    "#### $\\lambda = -1$"
   ]
  },
  {
   "cell_type": "markdown",
   "metadata": {},
   "source": [
    "$\\begin{bmatrix} 1 - \\lambda & -1 \\\\ 6 & -4 - \\lambda \\end{bmatrix} \\begin{bmatrix} x_{1} \\\\ x_{2} \\end{bmatrix} = 0$\n",
    "\n",
    "$\\begin{bmatrix} 1 - (-1) & -1 \\\\ 6 & -4 - (-1) \\end{bmatrix} \\begin{bmatrix} x_{1} \\\\ x_{2} \\end{bmatrix} = 0$\n",
    "\n",
    "$\\begin{bmatrix} 2 & -1 \\\\ 6 & -3 \\end{bmatrix} \\begin{bmatrix} x_{1} \\\\ x_{2} \\end{bmatrix} = 0$\n",
    "\n",
    "$\\begin{bmatrix} 2x_{1} - x_{2} \\\\ 6x_{1} - 3x_{2} \\end{bmatrix} = 0$\n",
    "\n",
    "$2x_{1} - x_{2} = 0$\n",
    "\n",
    "$2x_{1} = x_{2}$\n",
    "\n",
    "$6x_{1} - 3x_{2} = 0$\n",
    "\n",
    "$6x_{1} = 3x_{2}$\n",
    "\n",
    "$3(2x_{1}) = 3(x_{2})$\n",
    "\n",
    "$\\begin{bmatrix} x_{1} \\\\ x_{2} \\end{bmatrix} = \\begin{bmatrix} x_{1} \\\\ 2x_{1} \\end{bmatrix}$\n",
    "\n",
    "$\\begin{bmatrix} x_{1} \\\\ x_{2} \\end{bmatrix} = \\begin{bmatrix} 1 \\\\ 2 \\end{bmatrix}$"
   ]
  },
  {
   "cell_type": "markdown",
   "metadata": {},
   "source": [
    "#### $\\lambda = -2$"
   ]
  },
  {
   "cell_type": "markdown",
   "metadata": {},
   "source": [
    "$\\begin{bmatrix} 1 - \\lambda & -1 \\\\ 6 & -4 - \\lambda \\end{bmatrix} \\begin{bmatrix} x_{1} \\\\ x_{2} \\end{bmatrix} = 0$\n",
    "\n",
    "$\\begin{bmatrix} 1 - (-2) & -1 \\\\ 6 & -4 - (-2) \\end{bmatrix} \\begin{bmatrix} x_{1} \\\\ x_{2} \\end{bmatrix} = 0$\n",
    "\n",
    "$\\begin{bmatrix} 3 & -1 \\\\ 6 & -2 \\end{bmatrix} \\begin{bmatrix} x_{1} \\\\ x_{2} \\end{bmatrix} = 0$\n",
    "\n",
    "$\\begin{bmatrix} 3x_{1} - x_{2} \\\\ 6x_{1} - 2x_{2} \\end{bmatrix} = 0$\n",
    "\n",
    "$3x_{1} - x_{2} = 0$\n",
    "\n",
    "$3x_{1} = x_{2}$\n",
    "\n",
    "$6x_{1} - 2x_{2} = 0$\n",
    "\n",
    "$6x_{1} = 2x_{2}$\n",
    "\n",
    "$2(3x_{1}) = 2(x_{2})$\n",
    "\n",
    "$\\begin{bmatrix} x_{1} \\\\ x_{2} \\end{bmatrix} = \\begin{bmatrix} x_{1} \\\\ 3x_{1} \\end{bmatrix}$\n",
    "\n",
    "$\\begin{bmatrix} x_{1} \\\\ x_{2} \\end{bmatrix} = \\begin{bmatrix} 1 \\\\ 3 \\end{bmatrix}$"
   ]
  },
  {
   "cell_type": "markdown",
   "metadata": {},
   "source": [
    "### Kesimpulan Analisa Manual:"
   ]
  },
  {
   "cell_type": "markdown",
   "metadata": {},
   "source": [
    "$\\begin{bmatrix} 1 \\\\ 3 \\end{bmatrix}$ merupakan eigenvector dari $\\begin{bmatrix} 1 & -1 \\\\ 6 & -4 \\end{bmatrix}$ yang berkorespondensi dengan eigenvalue sebesar $\\lambda = -2$"
   ]
  },
  {
   "cell_type": "markdown",
   "metadata": {},
   "source": [
    "## Analisa program:"
   ]
  },
  {
   "cell_type": "markdown",
   "metadata": {},
   "source": [
    "Muat *library* numpy:"
   ]
  },
  {
   "cell_type": "code",
   "execution_count": 17,
   "metadata": {},
   "outputs": [],
   "source": [
    "import numpy as np"
   ]
  },
  {
   "cell_type": "markdown",
   "metadata": {},
   "source": [
    "Definisikan matriks A:"
   ]
  },
  {
   "cell_type": "code",
   "execution_count": 20,
   "metadata": {},
   "outputs": [
    {
     "data": {
      "text/plain": [
       "array([[ 1, -1],\n",
       "       [ 6, -4]])"
      ]
     },
     "execution_count": 20,
     "metadata": {},
     "output_type": "execute_result"
    }
   ],
   "source": [
    "A = np.array([[1, -1],\n",
    "            [6, -4]])\n",
    "\n",
    "A"
   ]
  },
  {
   "cell_type": "markdown",
   "metadata": {},
   "source": [
    "Gunakan perintah `np.linalg.eig()` untuk mendapatkan eigenvalue dan eigenvector dari matriks A:"
   ]
  },
  {
   "cell_type": "code",
   "execution_count": 21,
   "metadata": {},
   "outputs": [],
   "source": [
    "A_eval, A_evec = np.linalg.eig(A)"
   ]
  },
  {
   "cell_type": "markdown",
   "metadata": {},
   "source": [
    "Eigenvalue untuk matriks A:"
   ]
  },
  {
   "cell_type": "code",
   "execution_count": 23,
   "metadata": {},
   "outputs": [
    {
     "data": {
      "text/plain": [
       "array([-1., -2.])"
      ]
     },
     "execution_count": 23,
     "metadata": {},
     "output_type": "execute_result"
    }
   ],
   "source": [
    "A_eval"
   ]
  },
  {
   "cell_type": "markdown",
   "metadata": {},
   "source": [
    "Eigenvector untuk matriks A:"
   ]
  },
  {
   "cell_type": "code",
   "execution_count": 24,
   "metadata": {},
   "outputs": [
    {
     "data": {
      "text/plain": [
       "array([[0.4472136 , 0.31622777],\n",
       "       [0.89442719, 0.9486833 ]])"
      ]
     },
     "execution_count": 24,
     "metadata": {},
     "output_type": "execute_result"
    }
   ],
   "source": [
    "A_evec"
   ]
  },
  {
   "cell_type": "code",
   "execution_count": 30,
   "metadata": {},
   "outputs": [
    {
     "data": {
      "text/plain": [
       "array([[0.63245553, 0.4472136 ],\n",
       "       [1.26491106, 1.34164079]])"
      ]
     },
     "execution_count": 30,
     "metadata": {},
     "output_type": "execute_result"
    }
   ],
   "source": [
    "A_evec * np.linalg.norm(A_evec)"
   ]
  },
  {
   "cell_type": "markdown",
   "metadata": {},
   "source": []
  }
 ],
 "metadata": {
  "kernelspec": {
   "display_name": "Python 3.9.12 ('base')",
   "language": "python",
   "name": "python3"
  },
  "language_info": {
   "codemirror_mode": {
    "name": "ipython",
    "version": 3
   },
   "file_extension": ".py",
   "mimetype": "text/x-python",
   "name": "python",
   "nbconvert_exporter": "python",
   "pygments_lexer": "ipython3",
   "version": "3.9.12"
  },
  "orig_nbformat": 4,
  "vscode": {
   "interpreter": {
    "hash": "d4a4050df37647cce9f897d8be73e70f5f75cc37a70fc5027d2d46479925067e"
   }
  }
 },
 "nbformat": 4,
 "nbformat_minor": 2
}
