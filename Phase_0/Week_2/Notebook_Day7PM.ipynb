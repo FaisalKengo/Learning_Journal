{
 "cells": [
  {
   "cell_type": "markdown",
   "metadata": {},
   "source": [
    "# Eigendecomposition"
   ]
  },
  {
   "cell_type": "markdown",
   "metadata": {},
   "source": [
    "## Transformasi Linear\n",
    "\n",
    "Real space: f:X -> Y; f(x) = y\n",
    "\n",
    "Vector space -> T:V -> W; T(v) = W"
   ]
  },
  {
   "cell_type": "markdown",
   "metadata": {},
   "source": [
    "## Eigenvector\n",
    "\n",
    "Eigenvector merupakan suatu vektor yang dapat diskalarkan tanpa diputar\n",
    "\n",
    "Eigenvalue merupakan nilai skalar dari vektor tersebut\n",
    "\n",
    "Persamaan eigenvalue dinyatakan sebagai berikut:\n",
    "\n",
    "$$ Ax = \\lambda x$$\n",
    "\n",
    "$$ Ax = \\lambda I x$$\n",
    "\n",
    "$$ Ax - \\lambda I x = 0$$\n",
    "\n",
    "$$ (A - \\lambda I) x = 0$$\n",
    "\n",
    "$$ det(A - \\lambda I) = 0$$"
   ]
  },
  {
   "cell_type": "markdown",
   "metadata": {},
   "source": []
  }
 ],
 "metadata": {
  "kernelspec": {
   "display_name": "Python 3.9.12 ('base')",
   "language": "python",
   "name": "python3"
  },
  "language_info": {
   "name": "python",
   "version": "3.9.12"
  },
  "orig_nbformat": 4,
  "vscode": {
   "interpreter": {
    "hash": "d4a4050df37647cce9f897d8be73e70f5f75cc37a70fc5027d2d46479925067e"
   }
  }
 },
 "nbformat": 4,
 "nbformat_minor": 2
}
