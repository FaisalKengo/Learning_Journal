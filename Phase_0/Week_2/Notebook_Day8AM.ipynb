{
 "cells": [
  {
   "cell_type": "markdown",
   "metadata": {},
   "source": [
    "# Derivasi (Turunan)"
   ]
  },
  {
   "cell_type": "markdown",
   "metadata": {},
   "source": [
    "Kalkulus merupakan subyek matematika yang mempelajari suatu perubahan yang bersifat kontinu.\n",
    "\n",
    "Dalam turunan (dan nantinya integral), konsep limit diperkenalkan untuk menjelaskan fenomena kekontinuitas fungsi yang ditinjau. Berikut adalah contoh fungsi limit.\n",
    "\n",
    "$$\\lim_{x \\to 1} = \\frac{(x^{2} - 1)}{(x - 1)}$$\n",
    "\n",
    "Di mana konsep turunan datang dari adanya perubahan kemiringan pada garis, sehingga konsep gradien dapat dirumuskan sebagai:\n",
    "\n",
    "$$\\lim_{\\Delta x \\to 0} = \\frac{f(x_{b} + \\Delta x) - f(x_{a})}{\\Delta x} = \\frac{dy}{dx} = f'(x)$$\n",
    "\n",
    "Salah satu tujuan dari penggunaan turunan adalah untuk melakukan optimalisasi dan mencari nilai ekstrim minimum dan maksimum dari suatu fungsi."
   ]
  },
  {
   "cell_type": "markdown",
   "metadata": {},
   "source": [
    "Terdapat dua cara untuk menurunkan fungsi pada python, yaitu:"
   ]
  },
  {
   "cell_type": "code",
   "execution_count": 1,
   "metadata": {},
   "outputs": [],
   "source": [
    "# Load library sympy\n",
    "\n",
    "import sympy as sy"
   ]
  },
  {
   "cell_type": "code",
   "execution_count": 5,
   "metadata": {},
   "outputs": [
    {
     "data": {
      "text/latex": [
       "$\\displaystyle x$"
      ],
      "text/plain": [
       "x"
      ]
     },
     "execution_count": 5,
     "metadata": {},
     "output_type": "execute_result"
    }
   ],
   "source": [
    "## Perhitungan fungsi secara simbolik\n",
    "\n",
    "x = sy.Symbol(\"x\")\n",
    "x"
   ]
  },
  {
   "cell_type": "code",
   "execution_count": 6,
   "metadata": {},
   "outputs": [
    {
     "data": {
      "text/latex": [
       "$\\displaystyle 2 x^{2} + 4 x + 2$"
      ],
      "text/plain": [
       "2*x**2 + 4*x + 2"
      ]
     },
     "execution_count": 6,
     "metadata": {},
     "output_type": "execute_result"
    }
   ],
   "source": [
    "f = 2*x**2 + 4*x + 2\n",
    "f"
   ]
  },
  {
   "cell_type": "code",
   "execution_count": 8,
   "metadata": {},
   "outputs": [
    {
     "data": {
      "text/latex": [
       "$\\displaystyle 4 x + 4$"
      ],
      "text/plain": [
       "4*x + 4"
      ]
     },
     "execution_count": 8,
     "metadata": {},
     "output_type": "execute_result"
    }
   ],
   "source": [
    "# Perintah turunan dieksekusi menggunakan .diff()\n",
    "\n",
    "df = f.diff()\n",
    "df\n",
    "\n",
    "# Untuk turunan kedua dan seterusnya, lakukan perintah .diff() pada variabel yang sudah diturunkan sebelumnya"
   ]
  },
  {
   "cell_type": "code",
   "execution_count": 9,
   "metadata": {},
   "outputs": [],
   "source": [
    "## Perhitungan fungsi secara numerik\n",
    "\n",
    "import numpy as np"
   ]
  },
  {
   "cell_type": "code",
   "execution_count": 14,
   "metadata": {},
   "outputs": [],
   "source": [
    "X = np.linspace(-100, 100, 100) #apabila indeks ketiga tidak diisi, akan ada 50 data yang dihasilkan\n",
    "Y = 2*X**2 + 4*X + 2"
   ]
  },
  {
   "cell_type": "code",
   "execution_count": 11,
   "metadata": {},
   "outputs": [
    {
     "data": {
      "text/plain": [
       "array([-100.        ,  -97.97979798,  -95.95959596,  -93.93939394,\n",
       "        -91.91919192,  -89.8989899 ,  -87.87878788,  -85.85858586,\n",
       "        -83.83838384,  -81.81818182,  -79.7979798 ,  -77.77777778,\n",
       "        -75.75757576,  -73.73737374,  -71.71717172,  -69.6969697 ,\n",
       "        -67.67676768,  -65.65656566,  -63.63636364,  -61.61616162,\n",
       "        -59.5959596 ,  -57.57575758,  -55.55555556,  -53.53535354,\n",
       "        -51.51515152,  -49.49494949,  -47.47474747,  -45.45454545,\n",
       "        -43.43434343,  -41.41414141,  -39.39393939,  -37.37373737,\n",
       "        -35.35353535,  -33.33333333,  -31.31313131,  -29.29292929,\n",
       "        -27.27272727,  -25.25252525,  -23.23232323,  -21.21212121,\n",
       "        -19.19191919,  -17.17171717,  -15.15151515,  -13.13131313,\n",
       "        -11.11111111,   -9.09090909,   -7.07070707,   -5.05050505,\n",
       "         -3.03030303,   -1.01010101,    1.01010101,    3.03030303,\n",
       "          5.05050505,    7.07070707,    9.09090909,   11.11111111,\n",
       "         13.13131313,   15.15151515,   17.17171717,   19.19191919,\n",
       "         21.21212121,   23.23232323,   25.25252525,   27.27272727,\n",
       "         29.29292929,   31.31313131,   33.33333333,   35.35353535,\n",
       "         37.37373737,   39.39393939,   41.41414141,   43.43434343,\n",
       "         45.45454545,   47.47474747,   49.49494949,   51.51515152,\n",
       "         53.53535354,   55.55555556,   57.57575758,   59.5959596 ,\n",
       "         61.61616162,   63.63636364,   65.65656566,   67.67676768,\n",
       "         69.6969697 ,   71.71717172,   73.73737374,   75.75757576,\n",
       "         77.77777778,   79.7979798 ,   81.81818182,   83.83838384,\n",
       "         85.85858586,   87.87878788,   89.8989899 ,   91.91919192,\n",
       "         93.93939394,   95.95959596,   97.97979798,  100.        ])"
      ]
     },
     "execution_count": 11,
     "metadata": {},
     "output_type": "execute_result"
    }
   ],
   "source": [
    "X"
   ]
  },
  {
   "cell_type": "code",
   "execution_count": 15,
   "metadata": {},
   "outputs": [
    {
     "data": {
      "text/plain": [
       "array([1.96020000e+04, 1.88101624e+04, 1.80346497e+04, 1.72754619e+04,\n",
       "       1.65325989e+04, 1.58060608e+04, 1.50958476e+04, 1.44019592e+04,\n",
       "       1.37243957e+04, 1.30631570e+04, 1.24182432e+04, 1.17896543e+04,\n",
       "       1.11773903e+04, 1.05814511e+04, 1.00018368e+04, 9.43854729e+03,\n",
       "       8.89158270e+03, 8.36094297e+03, 7.84662810e+03, 7.34863810e+03,\n",
       "       6.86697296e+03, 6.40163269e+03, 5.95261728e+03, 5.51992674e+03,\n",
       "       5.10356107e+03, 4.70352025e+03, 4.31980431e+03, 3.95241322e+03,\n",
       "       3.60134701e+03, 3.26660565e+03, 2.94818916e+03, 2.64609754e+03,\n",
       "       2.36033078e+03, 2.09088889e+03, 1.83777186e+03, 1.60097970e+03,\n",
       "       1.38051240e+03, 1.17636996e+03, 9.88552393e+02, 8.17059688e+02,\n",
       "       6.61891848e+02, 5.23048873e+02, 4.00530762e+02, 2.94337517e+02,\n",
       "       2.04469136e+02, 1.30925620e+02, 7.37069687e+01, 3.28131823e+01,\n",
       "       8.24426079e+00, 2.04060810e-04, 8.08101214e+00, 3.24866850e+01,\n",
       "       7.32172227e+01, 1.30272625e+02, 2.03652893e+02, 2.93358025e+02,\n",
       "       3.99388022e+02, 5.21742883e+02, 6.60422610e+02, 8.15427201e+02,\n",
       "       9.86756657e+02, 1.17441098e+03, 1.37839016e+03, 1.59869421e+03,\n",
       "       1.83532313e+03, 2.08827691e+03, 2.35755556e+03, 2.64315907e+03,\n",
       "       2.94508744e+03, 3.26334068e+03, 3.59791878e+03, 3.94882175e+03,\n",
       "       4.31604959e+03, 4.69960229e+03, 5.09947985e+03, 5.51568228e+03,\n",
       "       5.94820957e+03, 6.39706173e+03, 6.86223875e+03, 7.34374064e+03,\n",
       "       7.84156739e+03, 8.35571901e+03, 8.88619549e+03, 9.43299684e+03,\n",
       "       9.99612305e+03, 1.05755741e+04, 1.11713501e+04, 1.17834509e+04,\n",
       "       1.24118765e+04, 1.30566271e+04, 1.37177025e+04, 1.43951027e+04,\n",
       "       1.50888279e+04, 1.57988779e+04, 1.65252527e+04, 1.72679525e+04,\n",
       "       1.80269770e+04, 1.88023265e+04, 1.95940008e+04, 2.04020000e+04])"
      ]
     },
     "execution_count": 15,
     "metadata": {},
     "output_type": "execute_result"
    }
   ],
   "source": [
    "Y"
   ]
  },
  {
   "cell_type": "code",
   "execution_count": 24,
   "metadata": {},
   "outputs": [
    {
     "data": {
      "text/plain": [
       "[<matplotlib.lines.Line2D at 0x2133c7e7df0>]"
      ]
     },
     "execution_count": 24,
     "metadata": {},
     "output_type": "execute_result"
    },
    {
     "data": {
      "image/png": "[encoded data removed]",
      "text/plain": [
       "<Figure size 432x288 with 1 Axes>"
      ]
     },
     "metadata": {
      "needs_background": "light"
     },
     "output_type": "display_data"
    }
   ],
   "source": [
    "### Plot data array menggunakan .pyplot\n",
    "\n",
    "import matplotlib.pyplot as plt\n",
    "\n",
    "plt.plot(X, Y)"
   ]
  },
  {
   "cell_type": "code",
   "execution_count": 20,
   "metadata": {},
   "outputs": [
    {
     "data": {
      "text/plain": [
       "[<matplotlib.lines.Line2D at 0x2133b421a00>]"
      ]
     },
     "execution_count": 20,
     "metadata": {},
     "output_type": "execute_result"
    },
    {
     "data": {
      "image/png": "[encoded data removed]",
      "text/plain": [
       "<Figure size 432x288 with 1 Axes>"
      ]
     },
     "metadata": {
      "needs_background": "light"
     },
     "output_type": "display_data"
    }
   ],
   "source": [
    "### Plot gradien persamaan:\n",
    "\n",
    "#### Menggunakan turunan:\n",
    "\n",
    "df1 = np.diff(Y)/np.diff(X)\n",
    "plt.plot(X[1:], df1)"
   ]
  },
  {
   "cell_type": "code",
   "execution_count": 21,
   "metadata": {},
   "outputs": [
    {
     "data": {
      "text/plain": [
       "[<matplotlib.lines.Line2D at 0x2133bed26a0>]"
      ]
     },
     "execution_count": 21,
     "metadata": {},
     "output_type": "execute_result"
    },
    {
     "data": {
      "image/png": "[encoded data removed]",
      "text/plain": [
       "<Figure size 432x288 with 1 Axes>"
      ]
     },
     "metadata": {
      "needs_background": "light"
     },
     "output_type": "display_data"
    }
   ],
   "source": [
    "#### Menggunakan gradien:\n",
    "\n",
    "df2 = np.gradient(Y, X)\n",
    "plt.plot(X, df2)"
   ]
  },
  {
   "cell_type": "markdown",
   "metadata": {},
   "source": [
    "Optimisasi fungsi ini digunakan untuk mencari nilai minimum dan maksimum global serta mencari nilai error-nya"
   ]
  },
  {
   "cell_type": "code",
   "execution_count": 22,
   "metadata": {},
   "outputs": [
    {
     "data": {
      "text/plain": [
       "     fun: 0.0\n",
       "    nfev: 9\n",
       "     nit: 4\n",
       " success: True\n",
       "       x: -1.0000000000000002"
      ]
     },
     "execution_count": 22,
     "metadata": {},
     "output_type": "execute_result"
    }
   ],
   "source": [
    "from scipy.optimize import minimize_scalar\n",
    "\n",
    "def f(x):\n",
    "    return 2*x**2 + 4*x + 2\n",
    "\n",
    "opt = minimize_scalar(f)\n",
    "opt"
   ]
  },
  {
   "cell_type": "markdown",
   "metadata": {},
   "source": [
    "Di mana:\n",
    "\n",
    "    fun -> Titik y\n",
    "    nfev -> Jumlah evaluasi fungsi\n",
    "    nit -> Jumlah iterasi\n",
    "    x -> Variabel minimum global"
   ]
  },
  {
   "cell_type": "markdown",
   "metadata": {},
   "source": [
    "Lalu bagaimana untuk mencari nilai maksimumnya? Kalikan fungsi yang ingin dievaluasi dengan nilai `-1`."
   ]
  },
  {
   "cell_type": "code",
   "execution_count": 36,
   "metadata": {},
   "outputs": [
    {
     "data": {
      "text/plain": [
       "     fun: -5.0\n",
       "    nfev: 13\n",
       "     nit: 9\n",
       " success: True\n",
       "       x: 0.99999998519"
      ]
     },
     "execution_count": 36,
     "metadata": {},
     "output_type": "execute_result"
    }
   ],
   "source": [
    "def fm(x):\n",
    "    return -(x**3 - 6*x**2 + 9*x + 1)\n",
    "\n",
    "minimize_scalar(fm)\n",
    "\n",
    "# Kembalikan hasil fun dengan -1 untuk mendapat nilai maksimalnya."
   ]
  },
  {
   "cell_type": "markdown",
   "metadata": {},
   "source": [
    "Jika terjadi error pada saat mencari nilai minimum atau maksimum, maka fungsi yang dievaluasi tidak memiliki nilai minimum atau nilai maksimum."
   ]
  },
  {
   "cell_type": "markdown",
   "metadata": {},
   "source": [
    "Turunan parsial merupakan satu jenis operasi penurunan pada fungsi multivariabel yang hanya dilakukan terhadap satu variabel saja.\n",
    "\n",
    "$$z = f(x ,y)$$\n",
    "\n",
    "$$\\partial_{x} f(x, y) = \\frac{\\partial f}{\\partial x} f(x, y)$$\n",
    "\n",
    "$$\\partial_{y} f(x, y) = \\frac{\\partial f}{\\partial y} f(x, y)$$"
   ]
  },
  {
   "cell_type": "code",
   "execution_count": 37,
   "metadata": {},
   "outputs": [],
   "source": [
    "import sympy as sy\n",
    "import numpy as np"
   ]
  },
  {
   "cell_type": "code",
   "execution_count": 38,
   "metadata": {},
   "outputs": [
    {
     "data": {
      "text/latex": [
       "$\\displaystyle x^{3} + 4 x y + x \\sin{\\left(z \\right)} + y z^{8}$"
      ],
      "text/plain": [
       "x**3 + 4*x*y + x*sin(z) + y*z**8"
      ]
     },
     "execution_count": 38,
     "metadata": {},
     "output_type": "execute_result"
    }
   ],
   "source": [
    "x,y,z = sy.symbols('x y z')\n",
    "f = 4*x*y + x*sy.sin(z) + x**3 + z**8*y\n",
    "f"
   ]
  },
  {
   "cell_type": "code",
   "execution_count": 39,
   "metadata": {},
   "outputs": [],
   "source": [
    "x = sy.Symbol('x')\n",
    "y = sy.Symbol('y')\n",
    "z = sy.Symbol('z')"
   ]
  },
  {
   "cell_type": "code",
   "execution_count": 40,
   "metadata": {},
   "outputs": [
    {
     "data": {
      "text/latex": [
       "$\\displaystyle 3 x^{2} + 4 y + \\sin{\\left(z \\right)}$"
      ],
      "text/plain": [
       "3*x**2 + 4*y + sin(z)"
      ]
     },
     "execution_count": 40,
     "metadata": {},
     "output_type": "execute_result"
    }
   ],
   "source": [
    "# Turunan parsial terhadap x\n",
    "sy.diff(f,x)"
   ]
  },
  {
   "cell_type": "code",
   "execution_count": 41,
   "metadata": {},
   "outputs": [
    {
     "data": {
      "text/latex": [
       "$\\displaystyle 4 x + z^{8}$"
      ],
      "text/plain": [
       "4*x + z**8"
      ]
     },
     "execution_count": 41,
     "metadata": {},
     "output_type": "execute_result"
    }
   ],
   "source": [
    "# Turunan parsial terhadap y\n",
    "sy.diff(f,y)"
   ]
  },
  {
   "cell_type": "code",
   "execution_count": 42,
   "metadata": {},
   "outputs": [
    {
     "data": {
      "text/latex": [
       "$\\displaystyle x \\cos{\\left(z \\right)} + 8 y z^{7}$"
      ],
      "text/plain": [
       "x*cos(z) + 8*y*z**7"
      ]
     },
     "execution_count": 42,
     "metadata": {},
     "output_type": "execute_result"
    }
   ],
   "source": [
    "# Turunan parsial terhadap z\n",
    "sy.diff(f,z)"
   ]
  },
  {
   "cell_type": "code",
   "execution_count": 43,
   "metadata": {},
   "outputs": [
    {
     "data": {
      "text/latex": [
       "$\\displaystyle 6 x$"
      ],
      "text/plain": [
       "6*x"
      ]
     },
     "execution_count": 43,
     "metadata": {},
     "output_type": "execute_result"
    }
   ],
   "source": [
    "# Turunan kedua terhadap x\n",
    "sy.diff(sy.diff(f,x), x)\n",
    "# Bisa juga dengan f.diff(x).diff(x)"
   ]
  },
  {
   "cell_type": "code",
   "execution_count": 44,
   "metadata": {},
   "outputs": [
    {
     "data": {
      "text/latex": [
       "$\\displaystyle 4$"
      ],
      "text/plain": [
       "4"
      ]
     },
     "execution_count": 44,
     "metadata": {},
     "output_type": "execute_result"
    }
   ],
   "source": [
    "# Turunan kedua terhadap x dan y\n",
    "\n",
    "sy.diff(sy.diff(f,x), y)\n",
    "# Bisa juga dengan f.diff(x).diff(y)"
   ]
  },
  {
   "cell_type": "markdown",
   "metadata": {},
   "source": [
    "Matriks Jacobian merupakan matriks yang memuat hasil turunan parsial pertama dari suatu fungsi multivariabel, sedangkan matriks Hessian merupakan matriks yang memuat hasil turunan parsial kedua dari suatu fungsi multivariabel."
   ]
  }
 ],
 "metadata": {
  "kernelspec": {
   "display_name": "Python 3.9.12 ('base')",
   "language": "python",
   "name": "python3"
  },
  "language_info": {
   "codemirror_mode": {
    "name": "ipython",
    "version": 3
   },
   "file_extension": ".py",
   "mimetype": "text/x-python",
   "name": "python",
   "nbconvert_exporter": "python",
   "pygments_lexer": "ipython3",
   "version": "3.9.12"
  },
  "orig_nbformat": 4,
  "vscode": {
   "interpreter": {
    "hash": "d4a4050df37647cce9f897d8be73e70f5f75cc37a70fc5027d2d46479925067e"
   }
  }
 },
 "nbformat": 4,
 "nbformat_minor": 2
}
